{
 "cells": [
  {
   "cell_type": "markdown",
   "id": "5508e74f",
   "metadata": {},
   "source": [
    "## 51. merge sort를 만들어보자\n",
    "\n",
    "병합정렬(merge sort)은 대표적인 정렬 알고리즘 중 하나로 다음과 같이 동작합니다.\n",
    "\n",
    "1. 리스트의 길이가 0 또는 1이면 이미 정렬된 것으로 본다. 그렇지 않은 경우에는\n",
    "\n",
    "2. 정렬되지 않은 리스트를 절반으로 잘라 비슷한 크기의 두 부분 리스트로 나눈다.\n",
    "\n",
    "3. 각 부분 리스트를 재귀적으로 합병 정렬을 이용해 정렬한다.\n",
    "\n",
    "4. 두 부분 리스트를 다시 하나의 정렬된 리스트로 합병한다.\n",
    "\n",
    "(출처 : 위키피디아)\n",
    "\n",
    "다음 코드의 빈칸을 채워 병합정렬을 완성해 봅시다.\n",
    "\n",
    "```\n",
    "#병합 정렬\n",
    "def 병합정렬(입력리스트):\n",
    "    입력리스트길이 = len(입력리스트)\n",
    "    if 입력리스트길이 <= 1:\n",
    "        return 입력리스트\n",
    "    중간값 = 입력리스트길이 // 2\n",
    "    그룹_하나 = 병합정렬(입력리스트[:중간값])\n",
    "    그룹_둘 = 병합정렬(입력리스트[중간값:])\n",
    "    결과값 = []\n",
    "\n",
    "    while (#빈칸을 채워주세요) and (#빈칸을 채워주세요) :\n",
    "        if (#빈칸을 채워주세요):\n",
    "            결과값.append(그룹_하나.pop(0))\n",
    "        else:\n",
    "            결과값.append(그룹_둘.pop(0))\n",
    "\n",
    "    while 그룹_하나:\n",
    "        결과값.append(그룹_하나.pop(0))\n",
    "    while 그룹_둘:\n",
    "        결과값.append(그룹_둘.pop(0))\n",
    "    return 결과값\n",
    "\n",
    "주어진리스트 = [180, 145, 165, 45, 170, 175, 173, 171]\n",
    "#빈칸을 채워주세요\n",
    "\n",
    "print(병합정렬(주어진리스트))\n",
    "```"
   ]
  },
  {
   "cell_type": "markdown",
   "id": "5eb0f01b",
   "metadata": {},
   "source": [
    "- 병합정렬: 정렬하고자 하는 데이터의 모임을 비슷한 크기의 두 부분으로 반복하여 나눈 뒤, 나누어진 부분 데이터들을 정렬한 다음에 다시 병합하면서 하나의 정렬된 데이터 모임으로 만드는 방법."
   ]
  },
  {
   "cell_type": "code",
   "execution_count": 8,
   "id": "22637df9",
   "metadata": {},
   "outputs": [
    {
     "name": "stdout",
     "output_type": "stream",
     "text": [
      "180 145 165 45 170 174 173 171\n",
      "[45, 145, 165, 170, 171, 173, 174, 180]\n"
     ]
    }
   ],
   "source": [
    "def 병합정렬(입력리스트):\n",
    "    입력리스트길이 = len(입력리스트)\n",
    "    if 입력리스트길이 <= 1:\n",
    "        return 입력리스트\n",
    "    중간값 = 입력리스트길이 // 2\n",
    "    그룹_하나 = 병합정렬(입력리스트[:중간값])\n",
    "    그룹_둘 = 병합정렬(입력리스트[중간값:])\n",
    "    결과값 = []\n",
    "\n",
    "    while 그룹_하나 and 그룹_둘:\n",
    "        if 그룹_하나[0] < 그룹_둘[0]:\n",
    "            결과값.append(그룹_하나.pop(0))\n",
    "            #pop 함수: 리스트의 인덱스를 받아 삭제하는 함수\n",
    "        else:\n",
    "            결과값.append(그룹_둘.pop(0))\n",
    "\n",
    "    while 그룹_하나:\n",
    "        결과값.append(그룹_하나.pop(0))\n",
    "    while 그룹_둘:\n",
    "        결과값.append(그룹_둘.pop(0))\n",
    "    return 결과값\n",
    "\n",
    "주어진리스트 = input().split(' ')\n",
    "주어진리스트 = [int(i) for i in 주어진리스트]\n",
    "\n",
    "print(병합정렬(주어진리스트))"
   ]
  },
  {
   "cell_type": "markdown",
   "id": "b3d11f99",
   "metadata": {},
   "source": [
    "## 52. quick sort\n",
    "다음 빈 칸을 채워 퀵 정렬을 완성해주세요.\n",
    "```python\n",
    "def 퀵정렬(입력리스트):\n",
    "    입력리스트의길이 = len(입력리스트)\n",
    "    if 입력리스트의길이 <= 1:\n",
    "        return 입력리스트\n",
    "    기준값 = 입력리스트.pop(입력리스트의길이//2)\n",
    "    그룹_하나 = []\n",
    "    그룹_둘 = []\n",
    "    \n",
    "    for i in range(입력리스트의길이-1):\n",
    "        if #내용을 채워주세요\n",
    "            그룹_하나.append(입력리스트[i])\n",
    "        else:\n",
    "            그룹_둘.append(입력리스트[i])\n",
    "    return #내용을 채워주세요\n",
    "\n",
    "주어진리스트 = input().split(' ')\n",
    "#내용을 채워주세요.\n",
    "\n",
    "print(퀵정렬(주어진리스트))\n",
    "```"
   ]
  },
  {
   "cell_type": "markdown",
   "id": "7333525b",
   "metadata": {},
   "source": [
    "- 퀵 정렬: 병합 정렬과 마찬가지로 분할 정복 (Devide and Conquer) 기법과 재귀 알고리즘을 이용한 정렬 알고리즘\n",
    "\n",
    "    1. 리스트의 정 가운데 있는 값을 pivot 값으로 선택\n",
    "    2. pivot 값보다 작은 값, 동일한 값 그리고 큰 값을 담아둘 3개의 리스트를 생성\n",
    "    3.  반복문을 통해 각 값을 pivot과 비교 후에 해당하는 리스트에 추가\n",
    "    4. 작은 값과 큰 값을 담고 있는 배열을 대상으로 퀵 정렬 함수를 재귀적으로 호출\n",
    "    5. 재귀 호출의 결과를 다시 크기 순으로 합침"
   ]
  },
  {
   "cell_type": "code",
   "execution_count": 9,
   "id": "b5f85c8a",
   "metadata": {},
   "outputs": [
    {
     "name": "stdout",
     "output_type": "stream",
     "text": [
      "180 145 165 45 170 174 173 171\n",
      "[45, 145, 165, 170, 171, 173, 174, 180]\n"
     ]
    }
   ],
   "source": [
    "def 퀵정렬(입력리스트):\n",
    "    입력리스트의길이 = len(입력리스트)\n",
    "    if 입력리스트의길이 <= 1:\n",
    "        return 입력리스트\n",
    "    기준값 = 입력리스트.pop(입력리스트의길이//2)\n",
    "    그룹_하나 = []\n",
    "    그룹_둘 = []\n",
    "    \n",
    "    for i in range(입력리스트의길이-1):\n",
    "        if 입력리스트[i] < 기준값:\n",
    "            그룹_하나.append(입력리스트[i])\n",
    "        else:\n",
    "            그룹_둘.append(입력리스트[i])\n",
    "    return 퀵정렬(그룹_하나) + [기준값] + 퀵정렬(그룹_둘)\n",
    "\n",
    "주어진리스트 = input().split(' ')\n",
    "주어진리스트 = [int(i) for i in 주어진리스트]\n",
    "\n",
    "print(퀵정렬(주어진리스트))"
   ]
  },
  {
   "cell_type": "markdown",
   "id": "e7a11191",
   "metadata": {},
   "source": [
    "## 53. 괄호 문자열\n",
    "괄호 문자열이란 괄호 기호인 '{', '}', '[', ']', '(', ')' 와 같은 것을 말한다. 그 중 괄호의 모양이 바르게 구성 된 문자열을 **바른 문자열**, 그렇지 않은 문자열을 **바르지 않은 문자열**이라 부르도록 하자. \n",
    "\n",
    "(())와 같은 문자열은 바른 문자열이지만 ()()) 와 같은 문자열은 바르지 않은 문자열이다.(해당 문제에서는 소괄호만 판별하지만, 실력이 되시는 분들은 중괄호와 대괄호까지 판별해보세요.)\n",
    "\n",
    "**입력으로 주어진 괄호 문자열이 바른 문자열인지 바르지 않은 문자열인지 \"YES\"와 \"NO\"로 구분된 문자열을 출력해보자.**"
   ]
  },
  {
   "cell_type": "code",
   "execution_count": 12,
   "id": "cef22ddb",
   "metadata": {},
   "outputs": [
    {
     "name": "stdout",
     "output_type": "stream",
     "text": [
      "()())\n",
      "NO\n"
     ]
    }
   ],
   "source": [
    "def math(e):\n",
    "    if e.count('(') != e.count(')'):\n",
    "        return False\n",
    "    괄호 = []\n",
    "    for i in e:\n",
    "        if i == '(':\n",
    "            괄호.append('(')\n",
    "        if i == ')':\n",
    "            if len(괄호) == 0:\n",
    "                return False\n",
    "            괄호.pop()\n",
    "    return True\n",
    "\n",
    "n = input()\n",
    "if math(n) == True:\n",
    "    print(\"YES\")\n",
    "else:\n",
    "    print(\"NO\")"
   ]
  },
  {
   "cell_type": "markdown",
   "id": "889f73b1",
   "metadata": {},
   "source": [
    "## 54. 연속되는 수\n",
    "은주는 놀이공원 아르바이트를 하고 있습니다. 은주가 일하는 놀이공원에서는 현재 놀이공원 곳곳에 숨겨진 숫자 스탬프를 모아 오면 선물을 주는 이벤트를 하고 있습니다. 숫자 스탬프는 매일 그 수와 스탬프에 적힌 숫자가 바뀌지만 그 숫자는 항상 연속됩니다. \n",
    "그런데 요즘 다른 날에 찍은 스탬프를 가지고 와 선물을 달라고 하는 손님이 늘었습니다.\n",
    "\n",
    "스탬프에 적힌 숫자가 공백으로 구분되어 주어지면 이 숫자가 연속수인지 아닌지 \"YES\"와 \"NO\"로 판별하는 프로그램을 작성하세요.\n",
    "\n",
    "```python\n",
    "**입력1**\n",
    "1 2 4 3 5\n",
    "\n",
    "**출력1**\n",
    "YES\n",
    "\n",
    "**입력2**\n",
    "1 4 2 6 3\n",
    "\n",
    "**출력2**\n",
    "NO\n",
    "```"
   ]
  },
  {
   "cell_type": "code",
   "execution_count": 13,
   "id": "68cf27f0",
   "metadata": {},
   "outputs": [
    {
     "name": "stdout",
     "output_type": "stream",
     "text": [
      "1 4 2 6 3\n",
      "NO\n"
     ]
    }
   ],
   "source": [
    "user_input = list(map(int, input().split())) \n",
    "#map 함수로 여러 개의 데이터를 한 번에 공백을 기준으로 나눈 정수 형태로 변환함\n",
    "user_input.sort() #정렬\n",
    "\n",
    "def check():\n",
    "    for i in range(0, len(user_input) - 1):\n",
    "        if user_input[i] + 1 != user_input[i+1]:\n",
    "            return print(\"NO\")\n",
    "    return print(\"YES\")\n",
    "\n",
    "check()"
   ]
  },
  {
   "cell_type": "markdown",
   "id": "c2cb140e",
   "metadata": {},
   "source": [
    "## 55. 하노이의 탑\n",
    "\n",
    "하노이의 탑은 프랑스 수학자 에두아르드가 처음으로 발표한 게임입니다. 하노이의 탑은 A, B, C 3개의 기둥과 기둥에 꽂을 수 있는 N개의 원판으로 이루어져 있습니다. 이 게임에서 다음의 규칙을 만족해야 합니다.\n",
    "\n",
    "> 1. 처음에 모든 원판은 A기둥에 꽂혀 있다.\n",
    "2. 모든 원판의 지름은 다르다.\n",
    "3. 이 원반은 세 개의 기둥 중 하나에 반드시 꽂혀야 한다.\n",
    "4. 작은 원반 위에 큰 원반을 놓을 수 없다.\n",
    "5. 한 번에 하나의 원판(가장 위에 있는 원판) 만을 옮길 수 있다.\n",
    "> \n",
    "\n",
    "이 규칙을 만족하며 A기둥에 있는 원반 N개를 모두 C 원반으로 옮기고 싶습니다.\n",
    "모든 원반을 옮기기 위해 실행되어야 할 최소 원반 이동 횟수를 계산하는 프로그램을 완성해주세요.\n",
    "\n",
    "```python\n",
    "원판의이동경로 = []\n",
    "def 하노이(원반의수, 시작기둥, 목표기둥, 보조기둥):\n",
    "    #원판이 한개일 때에는 옮기면 됩니다.\n",
    "    if 원반의수 == 1:\n",
    "        원판의이동경로.append([시작기둥, 목표기둥]) \n",
    "        return None\n",
    "    #원반의 n-1개를 경유기둥으로 옮기고\n",
    "    하노이(#내용을 채워주세요.)\n",
    "    #가장 큰 원반은 목표기둥으로\n",
    "    원판의이동경로.append(#내용을 채워주세요.) \n",
    "    #경유기둥과 시작기둥을 바꿉니다!\n",
    "    하노이(#내용을 채워주세요.)\n",
    "\n",
    "user_input = int(input())\n",
    "하노이(user_input,'A','C','B')\n",
    "\n",
    "print(len(원판의이동경로))\n",
    "```"
   ]
  },
  {
   "cell_type": "code",
   "execution_count": 17,
   "id": "9ed5d985",
   "metadata": {},
   "outputs": [
    {
     "ename": "TypeError",
     "evalue": "unsupported operand type(s) for -: 'list' and 'int'",
     "output_type": "error",
     "traceback": [
      "\u001b[0;31m---------------------------------------------------------------------------\u001b[0m",
      "\u001b[0;31mTypeError\u001b[0m                                 Traceback (most recent call last)",
      "\u001b[0;32m<ipython-input-17-e588f987b611>\u001b[0m in \u001b[0;36m<module>\u001b[0;34m\u001b[0m\n\u001b[1;32m      8\u001b[0m     \u001b[0m하노이\u001b[0m\u001b[0;34m(\u001b[0m\u001b[0m원반의수\u001b[0m\u001b[0;34m-\u001b[0m\u001b[0;36m1\u001b[0m\u001b[0;34m,\u001b[0m \u001b[0m시작기둥\u001b[0m\u001b[0;34m,\u001b[0m \u001b[0m보조기둥\u001b[0m\u001b[0;34m,\u001b[0m \u001b[0m목표기둥\u001b[0m\u001b[0;34m)\u001b[0m\u001b[0;34m\u001b[0m\u001b[0;34m\u001b[0m\u001b[0m\n\u001b[1;32m      9\u001b[0m \u001b[0;34m\u001b[0m\u001b[0m\n\u001b[0;32m---> 10\u001b[0;31m \u001b[0m하노이\u001b[0m\u001b[0;34m(\u001b[0m\u001b[0muser_input\u001b[0m\u001b[0;34m,\u001b[0m\u001b[0;34m'A'\u001b[0m\u001b[0;34m,\u001b[0m\u001b[0;34m'C'\u001b[0m\u001b[0;34m,\u001b[0m\u001b[0;34m'B'\u001b[0m\u001b[0;34m)\u001b[0m\u001b[0;34m\u001b[0m\u001b[0;34m\u001b[0m\u001b[0m\n\u001b[0m\u001b[1;32m     11\u001b[0m \u001b[0mprint\u001b[0m\u001b[0;34m(\u001b[0m\u001b[0mlen\u001b[0m\u001b[0;34m(\u001b[0m\u001b[0m원판의이동경로\u001b[0m\u001b[0;34m)\u001b[0m\u001b[0;34m)\u001b[0m\u001b[0;34m\u001b[0m\u001b[0;34m\u001b[0m\u001b[0m\n",
      "\u001b[0;32m<ipython-input-17-e588f987b611>\u001b[0m in \u001b[0;36m하노이\u001b[0;34m(원반의수, 시작기둥, 목표기둥, 보조기둥)\u001b[0m\n\u001b[1;32m      4\u001b[0m         \u001b[0m원판의이동경로\u001b[0m\u001b[0;34m.\u001b[0m\u001b[0mappend\u001b[0m\u001b[0;34m(\u001b[0m\u001b[0;34m[\u001b[0m\u001b[0m시작기둥\u001b[0m\u001b[0;34m,\u001b[0m \u001b[0m목표기둥\u001b[0m\u001b[0;34m]\u001b[0m\u001b[0;34m)\u001b[0m\u001b[0;34m\u001b[0m\u001b[0;34m\u001b[0m\u001b[0m\n\u001b[1;32m      5\u001b[0m         \u001b[0;32mreturn\u001b[0m \u001b[0;32mNone\u001b[0m\u001b[0;34m\u001b[0m\u001b[0;34m\u001b[0m\u001b[0m\n\u001b[0;32m----> 6\u001b[0;31m     \u001b[0m하노이\u001b[0m\u001b[0;34m(\u001b[0m\u001b[0m원반의수\u001b[0m\u001b[0;34m-\u001b[0m\u001b[0;36m1\u001b[0m\u001b[0;34m,\u001b[0m \u001b[0m시작기둥\u001b[0m\u001b[0;34m,\u001b[0m \u001b[0m보조기둥\u001b[0m\u001b[0;34m,\u001b[0m \u001b[0m목표기둥\u001b[0m\u001b[0;34m)\u001b[0m\u001b[0;34m\u001b[0m\u001b[0;34m\u001b[0m\u001b[0m\n\u001b[0m\u001b[1;32m      7\u001b[0m     \u001b[0m원판의이동경로\u001b[0m\u001b[0;34m.\u001b[0m\u001b[0mappend\u001b[0m\u001b[0;34m(\u001b[0m\u001b[0;34m[\u001b[0m\u001b[0m시작기둥\u001b[0m\u001b[0;34m,\u001b[0m \u001b[0m목표기둥\u001b[0m\u001b[0;34m]\u001b[0m\u001b[0;34m)\u001b[0m\u001b[0;34m\u001b[0m\u001b[0;34m\u001b[0m\u001b[0m\n\u001b[1;32m      8\u001b[0m     \u001b[0m하노이\u001b[0m\u001b[0;34m(\u001b[0m\u001b[0m원반의수\u001b[0m\u001b[0;34m-\u001b[0m\u001b[0;36m1\u001b[0m\u001b[0;34m,\u001b[0m \u001b[0m시작기둥\u001b[0m\u001b[0;34m,\u001b[0m \u001b[0m보조기둥\u001b[0m\u001b[0;34m,\u001b[0m \u001b[0m목표기둥\u001b[0m\u001b[0;34m)\u001b[0m\u001b[0;34m\u001b[0m\u001b[0;34m\u001b[0m\u001b[0m\n",
      "\u001b[0;31mTypeError\u001b[0m: unsupported operand type(s) for -: 'list' and 'int'"
     ]
    }
   ],
   "source": [
    "원판의이동경로 = []\n",
    "def 하노이(원반의수, 시작기둥, 목표기둥, 보조기둥):\n",
    "    if 원반의수 == 1:\n",
    "        원판의이동경로.append([시작기둥, 목표기둥]) \n",
    "        return None\n",
    "    하노이(원반의수-1, 시작기둥, 보조기둥, 목표기둥)\n",
    "    원판의이동경로.append([시작기둥, 목표기둥]) \n",
    "    하노이(원반의수-1, 시작기둥, 보조기둥, 목표기둥)\n",
    "\n",
    "하노이(user_input,'A','C','B')\n",
    "print(len(원판의이동경로))"
   ]
  },
  {
   "cell_type": "markdown",
   "id": "2022a40f",
   "metadata": {},
   "source": [
    "## 56 : 리스트의 함수 응용\n",
    "다음의 딕셔너리가 주어졌을 때 한국의 면적과 가장 비슷한 국가와 그 차이를 출력하세요.\n",
    "\n",
    "```python\n",
    "**데이터**\n",
    "nationWidth = {\n",
    "     'korea': 220877,\n",
    "     'Rusia': 17098242,\n",
    "     'China': 9596961,\n",
    "     'France': 543965,\n",
    "     'Japan': 377915,\n",
    "     'England' : 242900 }\n",
    "\n",
    "**출력**\n",
    "England 22023\n",
    "```"
   ]
  },
  {
   "cell_type": "code",
   "execution_count": 19,
   "id": "59f3393d",
   "metadata": {},
   "outputs": [
    {
     "name": "stdout",
     "output_type": "stream",
     "text": [
      "England 22023\n"
     ]
    }
   ],
   "source": [
    "nationWidth = {\n",
    "     'korea': 220877,\n",
    "     'Rusia': 17098242,\n",
    "     'China': 9596961,\n",
    "     'France': 543965,\n",
    "     'Japan': 377915,\n",
    "     'England' : 242900 } #dictionary 선언\n",
    "    # dictionary는 vlaue와 key로 구성되어있음\n",
    "nationWidth_list = list(nationWidth.values()) #list로 타입을 변환\n",
    "nationWidth_list.sort() #정렬\n",
    "for i in nationWidth.keys(): #key값만 구하고 싶어서 .key() 함수 사용\n",
    "    if nationWidth[i] == nationWidth_list[1]:\n",
    "        #만약 dictionary의 i가 list의 1번째 값과 같을 경우 == 한국의 면적과 가장 비슷한 국가일 경우\n",
    "        print(i, nationWidth_list[1] - nationWidth_list[0]) #차이 출력"
   ]
  },
  {
   "cell_type": "markdown",
   "id": "f747ae57",
   "metadata": {},
   "source": [
    "## 57 : 내장함수 응용하기\n",
    "**0부터 1000까지 1의 개수를 세는 프로그램**을 만들려고 합니다. 예를 들어 0부터 20까지 1의 개수를 세어본다면 1, 10 11, 12, 13, 14, 15, 16, 17, 18, 19 에 각각 1이 들어가므로 12개의 1이 있게 됩니다. 11은 1이 2번 들어간 셈이죠.\n",
    "\n",
    "그렇다면 0부터 1000까지 수에서 1은 몇번이나 들어갔을까요? 출력해주세요!"
   ]
  },
  {
   "cell_type": "code",
   "execution_count": 25,
   "id": "326dd42c",
   "metadata": {
    "scrolled": true
   },
   "outputs": [
    {
     "name": "stdout",
     "output_type": "stream",
     "text": [
      "301\n"
     ]
    }
   ],
   "source": [
    "count = 0\n",
    "for i in range(1, 1001):\n",
    "    count += str(i).count(\"1\")\n",
    "print(count)"
   ]
  },
  {
   "cell_type": "markdown",
   "id": "f7d2529f",
   "metadata": {},
   "source": [
    "## 58 : 콤마 찍기\n",
    "원범이는 편의점 아르바이트가 끝난 후 정산을 하고자 합니다.\n",
    "정산을 빨리하고 집에가고 싶은 원범이는 프로그램을 만들려고 합니다.\n",
    "\n",
    "**숫자를 입력 받고 천단위로 콤마(,)를 찍어주세요.**\n",
    "\n",
    "예를들어, 123456789를 입력받았으면 123,456,789 를 출력해야합니다."
   ]
  },
  {
   "cell_type": "code",
   "execution_count": 27,
   "id": "3e320aa6",
   "metadata": {},
   "outputs": [
    {
     "name": "stdout",
     "output_type": "stream",
     "text": [
      "1297\n",
      "1,297\n"
     ]
    }
   ],
   "source": [
    "n = int(input())\n",
    "result = format(n, ',') #format 함수를 사용하여 숫자 3자리마다 콤마 넣기\n",
    "print(result)"
   ]
  },
  {
   "cell_type": "code",
   "execution_count": 30,
   "id": "770948dc",
   "metadata": {
    "scrolled": true
   },
   "outputs": [
    {
     "name": "stdout",
     "output_type": "stream",
     "text": [
      "2344\n",
      "2,344\n"
     ]
    }
   ],
   "source": [
    "n = int(input())\n",
    "print(f'{n:,}') #f-string으로 콤마 넣기"
   ]
  },
  {
   "cell_type": "code",
   "execution_count": 32,
   "id": "5e083c56",
   "metadata": {},
   "outputs": [
    {
     "name": "stdout",
     "output_type": "stream",
     "text": [
      "12413535\n",
      "12,413,535\n"
     ]
    }
   ],
   "source": [
    "n = int(input())\n",
    "print('{0:,}'.format(n)) #문자열 format으로 콤마 넣기"
   ]
  },
  {
   "cell_type": "markdown",
   "id": "ba6ddc54",
   "metadata": {},
   "source": [
    "## 59 : 빈칸채우기\n",
    "총 문자열의 길이는 50으로 제한하고 사용자가 문자열을 입력하면 그 문자열을 가운데 정렬을 해주고, 나머지 빈 부분에는 '='을 채워넣어주세요"
   ]
  },
  {
   "cell_type": "code",
   "execution_count": 33,
   "id": "5bd982db",
   "metadata": {},
   "outputs": [
    {
     "name": "stdout",
     "output_type": "stream",
     "text": [
      "hi\n",
      "========================hi========================\n"
     ]
    }
   ],
   "source": [
    "data = input()\n",
    "data = data.center(50,\"=\")\n",
    "print(data)"
   ]
  },
  {
   "cell_type": "markdown",
   "id": "a2bb328e",
   "metadata": {},
   "source": [
    "## 60 : enumerate\n",
    "새학기가 되어 **이름을 가나다 순서대로 배정하고 번호를 매기려고 합니다**.\n",
    "코드에 입력된 이름을 아래와 같이 출력해주세요.\n",
    "\n",
    "```python\n",
    "**데이터**\n",
    "student = ['강은지','김유정','박현서','최성훈','홍유진','박지호','권윤일','김채리','한지호','김진이','김민호','강채연']\n",
    "\n",
    "**출력**\n",
    "번호: 1, 이름: 강은지\n",
    "번호: 2, 이름: 강채연\n",
    "번호: 3, 이름: 권윤일\n",
    "번호: 4, 이름: 김민호\n",
    "번호: 5, 이름: 김유정\n",
    "번호: 6, 이름: 김진이\n",
    "번호: 7, 이름: 김채리\n",
    "번호: 8, 이름: 박지호\n",
    "번호: 9, 이름: 박현서\n",
    "번호: 10, 이름: 최성훈\n",
    "번호: 11, 이름: 한지호\n",
    "번호: 12, 이름: 홍유진\n",
    "```"
   ]
  },
  {
   "cell_type": "code",
   "execution_count": 37,
   "id": "5bf764b3",
   "metadata": {},
   "outputs": [
    {
     "ename": "SyntaxError",
     "evalue": "invalid syntax (<ipython-input-37-8993afbb43d2>, line 3)",
     "output_type": "error",
     "traceback": [
      "\u001b[0;36m  File \u001b[0;32m\"<ipython-input-37-8993afbb43d2>\"\u001b[0;36m, line \u001b[0;32m3\u001b[0m\n\u001b[0;31m    번호와 함께 순서대로 출력하는 걸 모르겠음....\u001b[0m\n\u001b[0m        ^\u001b[0m\n\u001b[0;31mSyntaxError\u001b[0m\u001b[0;31m:\u001b[0m invalid syntax\n"
     ]
    }
   ],
   "source": [
    "student = ['강은지', '김유정', '박현서', '최성훈', '홍유진', '박지호', '권윤일', '김채리', '한지호', '김진이', '김민호', '강채연']\n",
    "student.sort()\n",
    "번호와 함께 순서대로 출력하는 걸 모르겠음...."
   ]
  },
  {
   "cell_type": "markdown",
   "id": "a0376d6f",
   "metadata": {},
   "source": [
    "## 61 : 문자열 압축하기\n",
    "문자열을 입력받고 연속되는 문자열을 압축해서 표현하고싶습니다."
   ]
  },
  {
   "cell_type": "code",
   "execution_count": 39,
   "id": "3c11cd8b",
   "metadata": {},
   "outputs": [
    {
     "name": "stdout",
     "output_type": "stream",
     "text": [
      "aaabbbbcdddd\n",
      "3a4b1c4d\n"
     ]
    }
   ],
   "source": [
    "user_input = input()\n",
    "s = ''\n",
    "storeString = user_input[0]\n",
    "count = 0\n",
    "for i in user_input:\n",
    "    if i == storeString:\n",
    "        count += 1\n",
    "    else:\n",
    "        s += str(count) + storeString\n",
    "        storeString = i\n",
    "        count = 1\n",
    "s += str(count) + storeString\n",
    "print(s) "
   ]
  },
  {
   "cell_type": "markdown",
   "id": "65a482dc",
   "metadata": {},
   "source": [
    "## 62 : 20190923출력하기\n",
    "1. 코드 내에 숫자가 없어야 합니다.\n",
    "    - 예) print(20190923)이라고 하시면 안됩니다.\n",
    "2. 파일 이름이나 경로를 사용해서는 안됩니다.\n",
    "3. 시간, 날짜 함수를 사용해서는 안됩니다.\n",
    "4. 에러 번호 출력을 이용해서는 안됩니다.\n",
    "5. input을 이용해서는 안됩니다."
   ]
  },
  {
   "cell_type": "code",
   "execution_count": 49,
   "id": "3e4dc673",
   "metadata": {},
   "outputs": [
    {
     "name": "stdout",
     "output_type": "stream",
     "text": [
      "2 0 1 9 0 9 2 3\n"
     ]
    }
   ],
   "source": [
    "s = 'bccdddeeeeeeeee'\n",
    "\n",
    "zero = s.count('a')\n",
    "one = s.count('b')\n",
    "two = s.count('c')\n",
    "three = s.count('d')\n",
    "nine = s.count('e')\n",
    "\n",
    "print(two,zero,one,nine,zero,nine,two,three)"
   ]
  },
  {
   "cell_type": "markdown",
   "id": "17ccfa0d",
   "metadata": {},
   "source": [
    "## 63 : 친해지고 싶어\n",
    "\n",
    "한국대학교의 김한국교수님은 학생들과 친해지기 위해서 딸에게 줄임말을 배우기로 했습니다.\n",
    "딸은 '복잡한 세상 편하게 살자' 라는 문장을 '복세편살'로 줄여 말합니다.\n",
    "\n",
    "교수님이 줄임말을 배우기 위해 위와 같이 어떤 입력이 주어지면 앞 글자만 줄여 출력하도록 해주세요.\n",
    "\n",
    "```python\n",
    "**입력 - 입력은 한글 혹은 영어로 입력됩니다.**\n",
    "복잡한 세상 편하게 살자\n",
    "\n",
    "**출력 - 띄어쓰기를 기준으로 하여 짧은 형태로 출력합니다.**\n",
    "복세편살\n",
    "```"
   ]
  },
  {
   "cell_type": "code",
   "execution_count": 51,
   "id": "2ff8662e",
   "metadata": {
    "scrolled": true
   },
   "outputs": [
    {
     "name": "stdout",
     "output_type": "stream",
     "text": [
      "몬스타 엑스 많은 관심 부탁\n",
      "몬엑많관부"
     ]
    }
   ],
   "source": [
    "data = list(map(str, input().split()))\n",
    "for sentence in data: \n",
    "    print(sentence[0], end = \"\") "
   ]
  },
  {
   "cell_type": "markdown",
   "id": "9d9c152e",
   "metadata": {},
   "source": [
    "## 64 : 이상한 엘레베이터\n",
    "정량 N에 정확히 맞춰야만 움직이는 화물용 엘레베이터가 있습니다.\n",
    "화물은 7kg, 3kg 두 가지이며 팔이 아픈 은후는 가장 적게 화물을 옮기고 싶습니다.\n",
    "\n",
    "예를 들어 정량이 24kg이라면 3kg 8개를 옮기는 것 보다는\n",
    "7kg 3개, 3kg 1개 즉 4개로 더 적게 옮길 수 있습니다.\n",
    "\n",
    "**입력**\n",
    "정량 N이 입력됩니다.\n",
    "\n",
    "**출력**\n",
    "가장 적게 옮길 수 있는 횟수를 출력합니다.\n",
    "만약 어떻게 해도 정량이 N이 되지 않는다면 -1을 출력합니다."
   ]
  },
  {
   "cell_type": "code",
   "execution_count": 52,
   "id": "66e809e0",
   "metadata": {},
   "outputs": [
    {
     "name": "stdout",
     "output_type": "stream",
     "text": [
      "24\n",
      "4\n"
     ]
    }
   ],
   "source": [
    "N = int(input())\n",
    "result = 0\n",
    "while True:\n",
    "    if N%7 ==0:\n",
    "        result += N//7\n",
    "        print(result)\n",
    "        break\n",
    "    N -= 3\n",
    "    result += 1\n",
    "    if N < 0:\n",
    "        print(-1)\n",
    "        break"
   ]
  },
  {
   "cell_type": "markdown",
   "id": "62d03f47",
   "metadata": {},
   "source": [
    "## 65 : 변형된 리스트\n",
    "a = [1,2,3,4]\n",
    "b = [a,b,c,d]\n",
    "이런 리스트가 있을 때 [[1,a],[b,2],[3,c],[d,4]] 이런식으로 a,b리스트가 번갈아가면서 출력되게 해주세요."
   ]
  },
  {
   "cell_type": "code",
   "execution_count": 1,
   "id": "180710f4",
   "metadata": {},
   "outputs": [
    {
     "name": "stdout",
     "output_type": "stream",
     "text": [
      "1234\n",
      "sdfg\n",
      "[['1234', 'sdfg']]\n"
     ]
    }
   ],
   "source": [
    "a = input().split(' ')\n",
    "b = input().split(' ')\n",
    "c = []\n",
    "count = 0\n",
    "for i, j in zip(a, b):\n",
    "    if count % 2 == 0:\n",
    "        c.append([i, j])\n",
    "    else:\n",
    "        c.append([j, i])\n",
    "    count += 1\n",
    "print(c)"
   ]
  },
  {
   "cell_type": "markdown",
   "id": "f035ccda",
   "metadata": {},
   "source": [
    "## 66: 블럭탑쌓기\n",
    "\n",
    "탑을 쌓기 위해 각 크기별로 준비된 블럭들을 정해진 순서에 맞게 쌓아햐 합니다.\n",
    "순서에 맞게 쌓지 않으면 무너질 수 있습니다.\n",
    "예를 들면 정해진 순서가 BAC 라면 A 다음 C가 쌓아져야 합니다.\n",
    "선행으로 쌓아야 하는 블럭이 만족된 경우라면 탑이 무너지지 않습니다.\n",
    "\n",
    "- B를 쌓지 않아도 A와 C를 쌓을 수 있습니다.\n",
    "- B 다음 블럭이 C가 될 수 있습니다.\n",
    "\n",
    "쌓아져 있는 블럭 탑이 순서에 맞게 쌓아져 있는지 확인하세요.\n",
    "\n",
    "1. 블럭은 알파벳 대문자로 표기합니다.\n",
    "2. 규칙에 없는 블럭이 사용될 수 있습니다.\n",
    "3. 중복된 블럭은 존재하지 않습니다."
   ]
  },
  {
   "cell_type": "markdown",
   "id": "a74e9fdd",
   "metadata": {},
   "source": [
    "## 67 : 민규의 악수\n",
    "광장에서 모인 사람들과 악수를 하는 행사가 열렸다.\n",
    "참가자인 민규는 몇명의 사람들과 악수를 한 후 중간에 일이 생겨 집으로 갔다.\n",
    "이 행사에서 진행된 악수는 총 n번이라고 했을때.\n",
    "\n",
    "민규는 몇번의 악수를 하고 집으로 돌아갔을까?\n",
    "이때 민규를 포함한 행사 참가자는 몇명일까?\n",
    "\n",
    "- 악수는 모두 1대 1로 진행이 된다.\n",
    "- 민규를 제외한 모든 참가자는 자신을 제외한 참가자와 모두 한번씩 악수를 한다.\n",
    "- 같은 상대와 중복된 악수는 카운트 하지 않는다.\n",
    "- 민규를 제외한 참가자는 행사를 모두 마쳤다.\n",
    "\n",
    "input : n (행사에서 진행된 악수 횟수)\n",
    "output : [ 민규의 악수횟수 , 행사참가자]"
   ]
  },
  {
   "cell_type": "code",
   "execution_count": 9,
   "id": "4a4b4908",
   "metadata": {},
   "outputs": [
    {
     "data": {
      "text/plain": [
       "[4, 12]"
      ]
     },
     "execution_count": 9,
     "metadata": {},
     "output_type": "execute_result"
    }
   ],
   "source": [
    "def solution(n):\n",
    "    people = 0\n",
    "    total = 0\n",
    "    while(True):\n",
    "        total = people*(people-1)/2\n",
    "        if n<total:\n",
    "            break\n",
    "        people+=1\n",
    "    times = int(people-(total-n)-1)\n",
    "    return [times,people]\n",
    "\n",
    "solution(59)"
   ]
  },
  {
   "cell_type": "markdown",
   "id": "ed1b0e35",
   "metadata": {},
   "source": [
    "## 68 : 버스 시간표\n",
    "\n",
    "학교가 끝난 지원이는 집에 가려고 합니다. 학교 앞에 있는 버스 시간표는 너무 복잡해서 버스 도착시간이 몇 분 남았는지 알려주는 프로그램을 만들고 싶습니다.\n",
    "버스시간표와 현재 시간이 주어졌을 때 버스 도착 시간이 얼마나 남았는지 알려주는 프로그램을 만들어주세요.\n",
    "\n",
    "- 버스 시간표와 현재시간이 입력으루 주어집니다.\n",
    "- 출력 포맷은 \"00시00분\"입니다.\n",
    "   만약 1시간 3분이 남았다면 \"01시간03분\"으로 출력해야 합니다.\n",
    "- 버스 시간표에 현재 시간보다 이전인 버스가 있다면 \"지나갔습니다.\"라고 출력합니다."
   ]
  },
  {
   "cell_type": "code",
   "execution_count": 11,
   "id": "b724d74b",
   "metadata": {},
   "outputs": [
    {
     "name": "stdout",
     "output_type": "stream",
     "text": [
      "12:40\n",
      "['지나갔습니다', '00시간 40분', '01시간 33분']\n"
     ]
    }
   ],
   "source": [
    "data = [\"12:30\", \"13:20\", \"14:13\"]\n",
    "time = list(map(int, input().split(':')))\n",
    "time = time[0] * 60 + time[1]\n",
    "time_change = []\n",
    "result = []\n",
    "for i in range(0, len(data)):\n",
    "    e = list(map(int, data[i].split(':')))\n",
    "    minute_convert = e[0] * 60 + e[1]\n",
    "    time_change.append(minute_convert) \n",
    "for i in range(0, len(time_change)):\n",
    "    change = time_change[i] - time\n",
    "    if change < 0:\n",
    "        result.append('지나갔습니다')\n",
    "    elif change > 0:\n",
    "        hour = change // 60\n",
    "        if hour < 10:\n",
    "            hour = '0'+ str(hour)\n",
    "        minute = change % 60\n",
    "        if minute < 10:\n",
    "            minute = '0' + str(minute)\n",
    "        result.append(f'{hour}시간 {minute}분')        \n",
    "print(result)"
   ]
  },
  {
   "cell_type": "markdown",
   "id": "5b845486",
   "metadata": {},
   "source": [
    "## 69 : 골드바흐의 추측\n",
    "\n",
    "골드바흐의 추측(Goldbach's conjecture)은 오래전부터 알려진 정수론의 미해결 문제로, 2보다 큰 모든 짝수는 두 개의 소수(Prime number)의 합으로 표시할 수 있다는 것이다. 이때 하나의 소수를 두 번 사용하는 것은 허용한다. - 위키백과\n",
    "\n",
    "위 설명에서 2보다 큰 모든 짝수를 두 소수의 합으로 나타낸 것을 골드바흐 파티션이라고 합니다.\n",
    "\n",
    "예)\n",
    "100 == 47 + 53\n",
    "56 == 19 + 37\n",
    "\n",
    "2보다 큰 짝수 n이 주어졌을 때, 골드바흐 파티션을 출력하는 코드를 작성하세요. "
   ]
  },
  {
   "cell_type": "markdown",
   "id": "4027e515",
   "metadata": {},
   "source": [
    "## 70 : 행렬 곱하기\n",
    "행렬 2개가 주어졌을 때 곱할 수 있는 행렬인지 확인하고 곱할 수 있다면 그 결과를, 곱할 수 없다면 -1을 출력하는 프로그램을 만들어주세요."
   ]
  }
 ],
 "metadata": {
  "kernelspec": {
   "display_name": "Python 3",
   "language": "python",
   "name": "python3"
  },
  "language_info": {
   "codemirror_mode": {
    "name": "ipython",
    "version": 3
   },
   "file_extension": ".py",
   "mimetype": "text/x-python",
   "name": "python",
   "nbconvert_exporter": "python",
   "pygments_lexer": "ipython3",
   "version": "3.8.8"
  }
 },
 "nbformat": 4,
 "nbformat_minor": 5
}
