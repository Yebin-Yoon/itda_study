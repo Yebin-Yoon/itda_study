{
 "cells": [
  {
   "cell_type": "markdown",
   "id": "f7a19787",
   "metadata": {},
   "source": [
    "### 11. 1부터 100까지 모두 더하는 Code를 pass 부분에 완성하세요. for를 사용해야 합니다.\n",
    "\n",
    "```python\n",
    "s = 0\n",
    "\n",
    "<pass>\n",
    "\n",
    "print(s)\n",
    "```"
   ]
  },
  {
   "cell_type": "code",
   "execution_count": 56,
   "id": "d86f5f28",
   "metadata": {},
   "outputs": [
    {
     "name": "stdout",
     "output_type": "stream",
     "text": [
      "5050\n"
     ]
    }
   ],
   "source": [
    "s = 0\n",
    "for i in range (101):\n",
    "    s += i\n",
    "print(s)\n",
    "\n",
    "# 입력받은 숫자에 해당하는 범위값을 반복 가능한 객체로 만들어 돌려주는 for문 range함수를 사용\n",
    "# 인수가 하나일 때, range 함수는 0부터 시작 (101로 작성해주어 100까지 더하도록 함)\n",
    "# 할당 연산자인 +=를 사용해서 s에 s과 i을 더하여 s에 할당"
   ]
  },
  {
   "cell_type": "markdown",
   "id": "752bad9a",
   "metadata": {},
   "source": [
    "### 12. 소스코드에서 클래스를 작성하여 게임 캐릭터의 능력치와 '파이어볼'이 출력되게 만드시오.\n",
    "\n",
    "**주어진 소스 코드를 수정해선 안됩니다.**\n",
    "\n",
    "```python\n",
    "<여기에 class를 작성하세요.>\n",
    "\n",
    "x = Wizard(health = 545, mana = 210, armor = 10)\n",
    "print(x.health, x.mana, x.armor)\n",
    "x.attack()\n",
    "```\n",
    "\n",
    "\n",
    "\n",
    "```python\n",
    ">> 545 210 10\n",
    "파이어볼\n",
    "```"
   ]
  },
  {
   "cell_type": "code",
   "execution_count": 57,
   "id": "a3c14e77",
   "metadata": {},
   "outputs": [
    {
     "ename": "SyntaxError",
     "evalue": "invalid syntax (<ipython-input-57-0c9db7443560>, line 2)",
     "output_type": "error",
     "traceback": [
      "\u001b[0;36m  File \u001b[0;32m\"<ipython-input-57-0c9db7443560>\"\u001b[0;36m, line \u001b[0;32m2\u001b[0m\n\u001b[0;31m    def (self,health,mana,armor):\u001b[0m\n\u001b[0m        ^\u001b[0m\n\u001b[0;31mSyntaxError\u001b[0m\u001b[0;31m:\u001b[0m invalid syntax\n"
     ]
    }
   ],
   "source": [
    "class Wizard:\n",
    "    def (self,health,mana,armor):\n",
    "        self.health = health\n",
    "        self.mana = mana\n",
    "        self.armor = armor\n",
    "    def attack(self):\n",
    "        print('파이어볼')\n",
    "        \n",
    "x = Wizard(health = 545, mana = 210, armor = 10)\n",
    "print(x.health, x.mana, x.armor)\n",
    "x.attack()"
   ]
  },
  {
   "cell_type": "markdown",
   "id": "82f15e60",
   "metadata": {},
   "source": [
    "### 13. 행성 문제 1\n",
    "우리 태양계를 이루고 있는 행성은 수성, 금성, 지구, 화성, 목성, 토성, 천왕성, 해왕성으로 총 8개 입니다. 저희는 우리 태양계의 n번째 행성이 무엇인지 알고 싶습니다. 입력으로 행성의 순서를 나타내는 숫자 n이 입력됩니다. 출력으로 그 순서에 해당하는 행성의 이름을 출력해주세요"
   ]
  },
  {
   "cell_type": "code",
   "execution_count": 1,
   "id": "77e3f8c0",
   "metadata": {},
   "outputs": [
    {
     "name": "stdout",
     "output_type": "stream",
     "text": [
      "5\n",
      "목성\n"
     ]
    }
   ],
   "source": [
    "i = int(input())\n",
    "l = ['수성','금성','지구','화성','목성','토성','천왕성','해왕성']\n",
    "print(l[i - 1]) #입력 받은 값에서 1을 빼 리스트에서 출력함"
   ]
  },
  {
   "cell_type": "markdown",
   "id": "ed6edf76",
   "metadata": {},
   "source": [
    "### 14. 입력으로 랜덤한 숫자 n이 주어집니다. 만약 그 수가 3의 배수라면 '짝'이라는 글자를, 3의 배수가 아니라면 n을 그대로 출력해 주세요"
   ]
  },
  {
   "cell_type": "code",
   "execution_count": 2,
   "id": "81d78efd",
   "metadata": {},
   "outputs": [
    {
     "name": "stdout",
     "output_type": "stream",
     "text": [
      "숫자를 입력하세요:1\n",
      "1\n"
     ]
    }
   ],
   "source": [
    "n = int(input(\"숫자를 입력하세요:\")) #int 함수로 숫자 n을 받음\n",
    "if n % 3 == 0: #만약 n을 3으로 나누었을 때 나머지가 0이라면\n",
    "    print('짝') #'짝' 출력\n",
    "else: #만약 n을 3으로 나누었을 때 나머지가 0이 아니라면\n",
    "    print(n) #숫자 n 그대로 출력"
   ]
  },
  {
   "cell_type": "markdown",
   "id": "544c2981",
   "metadata": {},
   "source": [
    "### 15. 신학기가 시작되고, 아이들이 돌아가면서 자기소개를 하기로 했습니다.\n",
    "\n",
    "만약 입력으로 `김다정`이라는 이름이 주어지면\n",
    "\n",
    "```python\n",
    "안녕하세요. 저는 김다정입니다.\n",
    "```\n",
    "\n",
    "라고 출력하게 해주세요."
   ]
  },
  {
   "cell_type": "code",
   "execution_count": 4,
   "id": "292d63e8",
   "metadata": {},
   "outputs": [
    {
     "name": "stdout",
     "output_type": "stream",
     "text": [
      "이름을 입력해주세요: 윤예빈\n",
      "안녕하세요. 저는 윤예빈입니다\n"
     ]
    }
   ],
   "source": [
    "n = input('이름을 입력해주세요: ')\n",
    "print (\"안녕하세요. 저는 \" + n + \"입니다\")"
   ]
  },
  {
   "cell_type": "markdown",
   "id": "e2f72f20",
   "metadata": {},
   "source": [
    "### 16. 문장이 입력되면 거꾸로 출력하는 프로그램을 만들어 봅시다."
   ]
  },
  {
   "cell_type": "code",
   "execution_count": 5,
   "id": "d0b8957b",
   "metadata": {},
   "outputs": [
    {
     "name": "stdout",
     "output_type": "stream",
     "text": [
      "abc\n",
      "cba\n"
     ]
    }
   ],
   "source": [
    "n = input()\n",
    "print(n[::-1]) # 처음부터 끝까지 -1칸 간격으로 ( == 역순으로)\n",
    "#문자열을 [::-1] 이라는 인덱스로 호출하면 해당 문자열을 뒤집은 결과를 반환함."
   ]
  },
  {
   "cell_type": "markdown",
   "id": "df4f2258",
   "metadata": {},
   "source": [
    "### 17. 유주는 놀이공원 아르바이트 중입니다. 그런데 놀이기구마다 키 제한이 있습니다.\n",
    "유주가 담당하는 놀이기구는 키가 150 이상만 탈 수 있습니다.\n",
    "\n",
    "입력으로 키가 주어지면\n",
    "키가 150이 이상이면 **YES**를 틀리면 **NO**를 출력하는 프로그램을 작성하세요."
   ]
  },
  {
   "cell_type": "code",
   "execution_count": null,
   "id": "cf36a3a4",
   "metadata": {},
   "outputs": [],
   "source": [
    "n = int(input(\"키를 입력하세요.: \"))\n",
    "\n",
    "if n >= 150: #만약 키가 150 이상이라면\n",
    "    print (\"YES\")\n",
    "else: #키가 150 이상이 아니라면\n",
    "    print (\"NO\")"
   ]
  },
  {
   "cell_type": "markdown",
   "id": "1492fe71",
   "metadata": {},
   "source": [
    "### 18. 평균 점수\n",
    "영하네 반은 국어, 수학, 영어 시험을 보았습니다. 영하는 친구들의 평균 점수를 구해주기로 했습니다.\n",
    "\n",
    "공백으로 구분하여 세 과목의 점수가 주어지면\n",
    "**전체 평균 점수**를 구하는 프로그램을 작성하세요. **단, 소숫점 자리는 모두 버립니다.**"
   ]
  },
  {
   "cell_type": "code",
   "execution_count": null,
   "id": "5f9b1611",
   "metadata": {
    "scrolled": true
   },
   "outputs": [],
   "source": [
    "data = list(map(int, input().split(''))) #split('') 공백 구분\n",
    "\n",
    "print(int(sum(data)/3)) #데이터를 합한 다음 3으로 나눔, int(정수형)으로 소수점 자리를 버림"
   ]
  },
  {
   "cell_type": "markdown",
   "id": "4e211c35",
   "metadata": {},
   "source": [
    "### 19. 공백으로 구분하여 두 숫자 a와 b가 주어지면, **a의 b승**을 구하는 프로그램을 작성하세요."
   ]
  },
  {
   "cell_type": "code",
   "execution_count": null,
   "id": "b62756e6",
   "metadata": {},
   "outputs": [],
   "source": [
    "n = list(map(int, input().split()))\n",
    "print(n[0] ** n[1])"
   ]
  },
  {
   "cell_type": "markdown",
   "id": "e06626ea",
   "metadata": {},
   "source": [
    "### 20. 공백으로 구분하여 두 숫자가 주어집니다.\n",
    "첫번째 숫자로 두번째 숫자를 나누었을 때 그 몫과 나머지를 공백으로 구분하여 출력하세요."
   ]
  },
  {
   "cell_type": "code",
   "execution_count": null,
   "id": "6bb69f05",
   "metadata": {},
   "outputs": [],
   "source": [
    "a, b = map(int, input().split(' ')) #split('') 공백 구분\n",
    "print(a**b)"
   ]
  },
  {
   "cell_type": "markdown",
   "id": "0357c2a1",
   "metadata": {},
   "source": [
    "### 21. 다음 중 set을 만드는 방법이 아닌 것?\n",
    "\n",
    "1.  x = {1, 2, 3, 5, 6, 7}\n",
    "2.  x = {}\n",
    "3.  x = set('python')\n",
    "4.  x = set(range(5))\n",
    "5.  x = set()\n",
    "**2번, set은 순서가 없고 중복을 허락하지 않게 출력됨.\n",
    "set은 dict타입과 동일한 중괄호를 사용하므로, 중괄호만으로는 생성할 수 없음.**"
   ]
  },
  {
   "cell_type": "markdown",
   "id": "28534160",
   "metadata": {},
   "source": [
    "### 22. 다음 중 변수 i가 6의 배수인지 확인하는 방법으로 올바른 것은?\n",
    "\n",
    "1.  i / 6 == 0\n",
    "2.  i % 6 == 0\n",
    "3.  i & 6 == 0\n",
    "4.  i | 6 == 0\n",
    "5.  i // 6 == 0\n",
    "**2번, 변수 i를 6으로 나누었을 때 나머지가 0이라면 배수임**"
   ]
  },
  {
   "cell_type": "markdown",
   "id": "703ca486",
   "metadata": {},
   "source": [
    "### 23. print(10/2)의 출력 결과는 **5**이다 (OX 문제)\n",
    "**X. 5.0임**"
   ]
  },
  {
   "cell_type": "markdown",
   "id": "3cf1dfd5",
   "metadata": {},
   "source": [
    "### 24. 대문자로 바꿔주세요!\n",
    "민지는 국제 포럼에서 아르바이트를 하게 되었습니다. 민지는 각 국에서 온 참가자들의 명단을 엑셀로 정리하고 있는데 참가자들 이름이 어떤 이는 전부 소문자, 어떤 이는 전부 대문자로 써져 있는 등 형식이 제각각이었습니다.\n",
    "\n",
    "민지를 위해 **이름이 입력되면 전부 대문자로 출력되는 프로그램**을 만들어주세요."
   ]
  },
  {
   "cell_type": "code",
   "execution_count": null,
   "id": "330fcb63",
   "metadata": {},
   "outputs": [],
   "source": [
    "user_input = input()\n",
    "print(user_input.upper()) #문자열 대문자로 변경하는 함수"
   ]
  },
  {
   "cell_type": "markdown",
   "id": "9d1f54dd",
   "metadata": {},
   "source": [
    "### 25. 원의 넓이를 구하세요\n",
    "원의 넓이는 `반지름의 길이 x 반지름의 길이 x 3.14`로 구할 수 있습니다.\n",
    "함수를 사용하여 원의 넓이를 구하는 코드를 작성해봅시다.\n",
    "\n",
    "**입력을 반지름의 길이로 정수 n이 주어지면 원의 넓이를 반환하는 함수**를 만들어 주세요.\n",
    "(입력을 해야하기 때문에 input을 반드시 사용해야합니다)"
   ]
  },
  {
   "cell_type": "code",
   "execution_count": null,
   "id": "98e48280",
   "metadata": {},
   "outputs": [],
   "source": [
    "i = int(input())\n",
    "print(i * i * 3.14)"
   ]
  },
  {
   "cell_type": "markdown",
   "id": "96d32f25",
   "metadata": {},
   "source": [
    "### 26. 행성 문제 2\n",
    "우리 태양계를 이루는 행성은 수성, 금성, 지구, 화성, 목성, 토성, 천왕성, 해왕성이 있습니다.\n",
    "이 행성들의 영어 이름은 Mercury, Venus, Earth, Mars, Jupiter, Saturn, Uranus, Neptune입니다.\n",
    "\n",
    "**행성의 한글 이름을 입력하면 영어 이름을 반환하는 프로그램**을 만들어 주세요."
   ]
  },
  {
   "cell_type": "code",
   "execution_count": null,
   "id": "a18e3fb3",
   "metadata": {},
   "outputs": [],
   "source": [
    "i = input()\n",
    "planets = {\"수성\" : 'Mercury', \"금성\" : 'Venus' ,\"지구\": 'Earth', \"화성\" : 'Mars' ,\"목성\" : 'Jupiter' ,\"토성\" : 'Saturn' ,\"천왕성\" : 'Uranus' ,\"해왕성\" : 'Neptune'}\n",
    "print(planets[i])"
   ]
  },
  {
   "cell_type": "markdown",
   "id": "6a358726",
   "metadata": {},
   "source": [
    "### 27. 딕셔너리 만들기\n",
    "첫 줄에는 학생의 이름이 공백으로 구분되어 입력되고, 두번째 줄에는 그 학생의 수학 점수가 공백으로 구분되어 주어집니다.\n",
    "\n",
    "두 개를 합쳐 **학생의 이름이 key**이고 **value가 수학 점수**인 딕셔너리를 출력해주세요."
   ]
  },
  {
   "cell_type": "markdown",
   "id": "a5e8cb4f",
   "metadata": {},
   "source": [
    "### 28. 2-gram\n",
    "**2-gram**이란 문자열에서 2개의 연속된 요소를 출력하는 방법입니다. \n",
    "예를 들어 '**Python**'을 2-gram으로 반복해 본다면 다음과 같은 결과가 나옵니다.\n",
    "\n",
    "```python\n",
    "Py\n",
    "yt\n",
    "th\n",
    "ho\n",
    "on\n",
    "```\n",
    "\n",
    "입력으로 문자열이 주어지면 **2-gram**으로 출력하는 프로그램을 작성해 주세요."
   ]
  },
  {
   "cell_type": "code",
   "execution_count": null,
   "id": "f81b71e7",
   "metadata": {},
   "outputs": [],
   "source": [
    "data = input()\n",
    "\n",
    "for i in range(len(data) - 1):\n",
    "    print(data[i], data[i+1], sep = '')"
   ]
  },
  {
   "cell_type": "markdown",
   "id": "4216ffc2",
   "metadata": {},
   "source": [
    "### 29. 대문자만 지나가세요\n",
    "진구는 영어 학원 아르바이트를 하고 있습니다. 반 아이들은 알파벳을 공부하는 학생들인데 오늘은 대문자 쓰기 시험을 봤습니다.\n",
    "\n",
    "**알파벳 하나만을 입력하고 그 알파벳이 대문자이면 YES를 아니면 NO를 출력하는 프로그램**을 만들어 주세요."
   ]
  },
  {
   "cell_type": "code",
   "execution_count": null,
   "id": "bd1c3996",
   "metadata": {},
   "outputs": [],
   "source": [
    "data = input()\n",
    "\n",
    "if data.isupper():\n",
    "    print(\"YES\")\n",
    "else:\n",
    "    print(\"NO\")"
   ]
  },
  {
   "cell_type": "markdown",
   "id": "9b24f918",
   "metadata": {},
   "source": [
    "### 30. 문자열 속 문자 찾기\n",
    "문자 pineapple에는 apple이라는 문자가 숨어 있습니다. 원범이는 이렇듯 문자열 속에 숨어있는 문자를 찾아보려고 합니다.\n",
    "\n",
    "입력으로 첫 줄에 문자열이 주어지고 둘째 줄에 찾을 문자가 주어지면 \n",
    "**그 문자가 시작하는 index를 반환하는 프로그램**을 만들어 주세요\n",
    "\n",
    "```python\n",
    "**입력**\n",
    "\n",
    "pineapple is yummy\n",
    "apple\n",
    "\n",
    "**출력**\n",
    "4\n",
    "```"
   ]
  },
  {
   "cell_type": "code",
   "execution_count": null,
   "id": "43a7feda",
   "metadata": {},
   "outputs": [],
   "source": [
    "data = input()\n",
    "word = input()\n",
    "print(data.find(word))"
   ]
  }
 ],
 "metadata": {
  "kernelspec": {
   "display_name": "Python 3",
   "language": "python",
   "name": "python3"
  },
  "language_info": {
   "codemirror_mode": {
    "name": "ipython",
    "version": 3
   },
   "file_extension": ".py",
   "mimetype": "text/x-python",
   "name": "python",
   "nbconvert_exporter": "python",
   "pygments_lexer": "ipython3",
   "version": "3.8.8"
  }
 },
 "nbformat": 4,
 "nbformat_minor": 5
}
