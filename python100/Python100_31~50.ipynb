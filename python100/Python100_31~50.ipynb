{
 "cells": [
  {
   "cell_type": "markdown",
   "id": "ee928149",
   "metadata": {},
   "source": [
    "### 31. 다음 리스트의 내장함수의 시간 복잡도가 O(1)이 아닌것은?\n",
    "\n",
    "    1. l[i]\n",
    "    2. l.append(5)\n",
    "    3. l[a:b]\n",
    "    4. l.pop()\n",
    "    5. l.clear()"
   ]
  },
  {
   "cell_type": "markdown",
   "id": "bfe61bc3",
   "metadata": {},
   "source": [ 
    "**3번**\n",
    "\n",
    "- 시간복잡도: 입력된 자료의 양에 따라 알고리즘이 실행에 걸리는 시간\n",
    "    1. 표기법: 빅오(Big-O)\n",
    "- 종류\n",
    "    1. O(1): 상수 형태. n의 값에 상관없이 일정한 양의 계산만 한다\n",
    "        - 알고리즘이 문제를 해결하는 데에 필요한 단계의 수가 오직 한 단계인 경우\n",
    "        - 입력 데이터의 개수와 관계없이 처리 시간 혹은 메모리 사용량이 일정\n",
    "    2. O(log n): 로그 형태\n",
    "        - 알고리즘이 문제를 해결하는 데에 필요한 단계의 수가 연산마다 특정 요인에 의해 감소하는 경우\n",
    "    3. O(n): 선형\n",
    "        - 알고리즘이 문제를 해결하는 데에 필요한 단계의 수가 입력 데이터의 개수 n에 비례하는 경우\n",
    "        - 입력 데이터의 개수에 따라 처리 시간 혹은 메모리 사용량이 선형적으로 증가\n",
    "    4. O(n log n): 선형로그 형태\n",
    "        - 정렬 알고리즘\n",
    "    5. O(n**),O(n***): 다차 \n",
    "        - 알고리즘이 문제를 해결하는 데에 필요한 단계의 수가 주어진 상수값 n의 * 제곱인 경우\n",
    "    6. O(𝛼2):지수 형태\n",
    "        - 알고리즘이 문제를 해결하기 위해 필요한 단계의 수가 입력 데이터의 개수 n의 제곱인 경우\n",
    "        - 정렬 알고리즘\n",
    "    7. O(n!): 팩토리얼 형태"
   ]
  },
  {
   "cell_type": "markdown",
   "id": "e0577bd3",
   "metadata": {},
   "source": [
    "### 32. 취업 준비생인 혜림이는 자기소개서를 쓰고 있습니다. 열심히 자기소개서를 작성하던 도중 혜림이는 자기가 지금까지 단어를 얼마나 적었는지 궁금하게 됩니다. \n",
    "\n",
    "혜림이를 위해 **문자열을 입력받으면 단어의 갯수를 출력하는 프로그램**을 작성해 주세요.\n",
    "\n",
    "```python\n",
    "**입출력**\n",
    "\n",
    "입력 : 안녕하세요. 저는 제주대학교 컴퓨터공학전공 혜림입니다.\n",
    "출력 : 5\n",
    "```"
   ]
  },
  {
   "cell_type": "code",
   "execution_count": 1,
   "id": "1bd2f8ba",
   "metadata": {},
   "outputs": [
    {
     "name": "stdout",
     "output_type": "stream",
     "text": [
      "안녕하세요. 저는 제주대학교 컴퓨터공학전공 혜림입니다.\n",
      "5\n"
     ]
    }
   ],
   "source": [
    "user_input = input() #input으로 입력 받음\n",
    "l = (user_input.strip().split())\n",
    "# strip() 함수 :  문자열 앞뒤의 공백 또는 특별한 문자 삭제\n",
    "# split() 함수 :  문자열 내부에 있는 공백 또는 특별한 문자를 구분해서, 리스트 아이템으로 만듦.\n",
    "print(len(l))\n",
    "# len() 함수: 문자열의 문자 개수를 반환하는 내장함수"
   ]
  },
  {
   "cell_type": "markdown",
   "id": "a131a520",
   "metadata": {},
   "source": [
    "### 33. 거꾸로 출력하기\n",
    "한 줄에 여러개의 숫자가 입력되면, 역순으로 그 숫자들을 하나씩 출력하는 프로그램을 작성하시오.\n",
    "\n",
    "```python\n",
    "**입출력**\n",
    "\n",
    "입력 : 1 2 3 4 5\n",
    "출력 : 5 4 3 2 1\n",
    "\n",
    "입력 : 2 4 6 7 8\n",
    "출력 : 8 7 6 4 2\n",
    "```"
   ]
  },
  {
   "cell_type": "code",
   "execution_count": 2,
   "id": "053acbfb",
   "metadata": {},
   "outputs": [
    {
     "name": "stdout",
     "output_type": "stream",
     "text": [
      "1 2 3 4 5\n",
      "5 4 3 2 1 "
     ]
    }
   ],
   "source": [
    "user_input = input() #input으로 입력 받음\n",
    "l = list(user_input.split())\n",
    "# 입력받은 user_input을 split() 함수로 문자열 내부에 있는 공백 또는 특별한 문자를 구분해서 리스트의 인덱스로 만듦 \n",
    "l = [int(i) for i in l]\n",
    "for i in range(len(l)-1, -1, -1) :\n",
    "    # for 변수 in range(시작 번호, 마지막 번호, 증가값)\n",
    "    # 리스트에서 거꾸로 출력\n",
    "    print(l[i], end=' ') \n",
    "    #end=' '는 print 함수로 문구를 출력하고 마지막에 \\n이 아닌 다른 값으로 설정할 수 있음"
   ]
  },
  {
   "cell_type": "markdown",
   "id": "6cd6d62a",
   "metadata": {},
   "source": [
    "### 34. sort 확인\n",
    "\n",
    "민주는 체육부장으로 체육시간이 되면 반 친구들이 제대로 키 순서대로 모였는지를 확인해야 한다. 그런데 요즘 민주는 그것이 너무 번거롭게 느껴져 한 번에 확인하고 싶어한다. \n",
    "\n",
    "민주를 위해 **키가 주어지면 순서대로 제대로 섰는지 확인하는 프로그램**을 작성해보자.\n",
    "\n",
    "**입출력 예시**하기\n",
    "민주는 체육부장으로 체육시간이 되면 반 친구들이 제대로 키 순서대로 모였는지를 확인해야 한다. 그런데 요즘 민주는 그것이 너무 번거롭게 느껴져 한 번에 확인하고 싶어한다. \n",
    "\n",
    "민주를 위해 **키가 주어지면 순서대로 제대로 섰는지 확인하는 프로그램**을 작성해보자.\n",
    "\n",
    "**입출력 예시**\n",
    "```\n",
    "입력 : 176 156 155 165 166 169\n",
    "출력 : NO\n",
    "```"
   ]
  },
  {
   "cell_type": "code",
   "execution_count": 3,
   "id": "fb8c1266",
   "metadata": {},
   "outputs": [
    {
     "name": "stdout",
     "output_type": "stream",
     "text": [
      "176 156 155 165 166 169\n",
      "NO\n"
     ]
    }
   ],
   "source": [
    "user_input = input() #input으로 입력 받음\n",
    "l = list(user_input.split())\n",
    "# 입력받은 user_input을 split() 함수로 리스트의 인덱스로 만듦 \n",
    "if l == sorted(l) :\n",
    "    # sorted(리스트)로 리스트 정렬\n",
    "        print(\"YES\")\n",
    "else :\n",
    "        print(\"NO\")"
   ]
  },
  {
   "cell_type": "markdown",
   "id": "96446aad",
   "metadata": {},
   "source": [
    "### 문제35 : Factory 함수 사용하기\n",
    "\n",
    "2제곱, 3제곱, 4제곱을 할 수 있는 Factory 함수를 만들려고 합니다. \n",
    "\n",
    "pass에 코드를 작성하여 two함수를 완성하세요.\n",
    "\n",
    "```python\n",
    "def one(n):\n",
    "    def two():\n",
    "        <pass>\n",
    "    return two\n",
    "\n",
    "a = one(2)\n",
    "b = one(3)\n",
    "c = one(4)\n",
    "print(a(10))\n",
    "print(b(10))\n",
    "print(c(10))\n",
    "```"
   ]
  },
  {
   "cell_type": "code",
   "execution_count": 4,
   "id": "3e4d90ec",
   "metadata": {},
   "outputs": [
    {
     "name": "stdout",
     "output_type": "stream",
     "text": [
      "100\n",
      "1000\n",
      "10000\n"
     ]
    }
   ],
   "source": [
    "def one(n):\n",
    "    def two(value):\n",
    "        return value ** n \n",
    "    return two #값에 제곱을 할 수 있도록 value ** n \n",
    "a = one(2)\n",
    "b = one(3)\n",
    "c = one(4)\n",
    "print(a(10))\n",
    "print(b(10))\n",
    "print(c(10))"
   ]
  },
  {
   "cell_type": "markdown",
   "id": "f43f3fa0",
   "metadata": {},
   "source": [
    "### 36. 구구단 출력\n",
    "1~9까지의 숫자 중 하나를 입력하면 그 단의 구구단 결과를 한 줄에 출력하는 프로그램을 작성하세요.\n",
    "\n",
    "입력\n",
    "\n",
    "```python\n",
    "2\n",
    "```\n",
    "\n",
    "출력\n",
    "\n",
    "```python\n",
    "2 4 6 8 10 12 14 16 18\n",
    "```"
   ]
  },
  {
   "cell_type": "code",
   "execution_count": 5,
   "id": "6fa59b4e",
   "metadata": {},
   "outputs": [
    {
     "name": "stdout",
     "output_type": "stream",
     "text": [
      "2\n",
      "2 4 6 8 10 12 14 16 18 "
     ]
    }
   ],
   "source": [
    "user_input = int(input()) #input은 str로 받기 때문에 연산을 하기 위해선 정수형인 int로 바꿔야함\n",
    "for i in range(1, 10):\n",
    "    print(user_input * i, end = ' ')"
   ]
  },
  {
   "cell_type": "markdown",
   "id": "c7b7781e",
   "metadata": {},
   "source": [
    "### 37. count 사용하기 \n",
    "\n",
    "새 학기를 맞아 호준이네 반은 반장 선거를 하기로 했습니다.  그런데 표를 하나씩 개표하는 과정이 너무 번거롭게 느껴진 당신은 **학생들이 뽑은 후보들을 입력받으면 뽑힌 학생의 이름과 받은 표 수를 출력하는 프로그램**을 작성하기로 하였습니다.\n",
    "\n",
    "```python\n",
    "**입력**\n",
    "원범 원범 혜원 혜원 혜원 혜원 유진 유진\n",
    "\n",
    "**출력**\n",
    "혜원(이)가 총 4표로 반장이 되었습니다.\n",
    "```"
   ]
  },
  {
   "cell_type": "markdown",
   "id": "2133d811",
   "metadata": {},
   "source": [
    "### 38. 호준이의 아르바이트\n",
    "호준이는 아르바이트로 영어 학원에서 단어 시험지를 채점하는 일을 하고 있다. 호준이가 일하는 학원은 매번 1위부터 3위까지의 학생에게 상으로 사탕을 준다. 그런데 오늘은 마침 사탕이 다 떨어져서 호준이가 채점을 하고 점수를 보내면, 당신이 아이들의 숫자만큼 사탕을 사러 가기로 했다.\n",
    "\n",
    "학생들의 점수를 공백으로 구분하여 입력받는다. 1위~ 3위 학생은 여러명일 수 있고 1~3위 학생 중 중복되는 학생까지 포함하여 사탕을 사기로 한다.\n",
    "\n",
    "- 학생 수는 4명 이상입니다.\n",
    "- 숫자 외에 다른 값은 입력되지 않습니다.\n",
    "\n",
    "```\n",
    "점수입력 : 97 86 75 66 55 97 85 97 97 95\n",
    "출력 : 6\n",
    "```"
   ]
  },
  {
   "cell_type": "code",
   "execution_count": 6,
   "id": "935179e6",
   "metadata": {},
   "outputs": [
    {
     "name": "stdout",
     "output_type": "stream",
     "text": [
      "97 86 75 66 55 97 85 97 97 95\n",
      "6\n"
     ]
    }
   ],
   "source": [
    "data = input().split()\n",
    "# 학생들의 점수를 공백으로 구분하여 입력받음\n",
    "data = [int(i) for i in data]\n",
    "\n",
    "count = 0\n",
    "\n",
    "if len(set(data)) <= 3: #3위까지 \n",
    "    # set (집합), 순서가 없고, 집합 안에서는 unique한 값을 가짐\n",
    "    count = len(data)\n",
    "else:\n",
    "    break_point = sorted(list(set(data)), reverse=True)[3]\n",
    "    data_sorted = sorted(data, reverse=True)\n",
    "    for i in data_sorted:\n",
    "        if break_point == i:\n",
    "            break\n",
    "        else:\n",
    "            count += 1\n",
    "\n",
    "print(count)"
   ]
  },
  {
   "cell_type": "markdown",
   "id": "a56b935f",
   "metadata": {},
   "source": [
    "### 39. 오타 수정하기\n",
    "혜원이는 평소 영타가 빠르고 정확한 것을 친구들에게 자랑하고 다녔습니다. 반 친구들이 혜원이의 타자 속도가 빠르다는 것을 모두 알게 되자 혜원이는 모두의 앞에서 타자 실력을 보여주게 됩니다. \n",
    "\n",
    "그런데 막상 보여주려니 긴장이 되서 문장의 모든 e를 q로, n을 b로 잘못 친 것을 발견했습니다. \n",
    "혜원이는 프로그램을 돌려 재빠르게 모든 q를 e로, b를 n으로 바꾸는 프로그램을 작성하려고 합니다.\n",
    "\n",
    "**문장이 입력되면 모든 q를 e로, b를 n으로 바꾸는 프로그램을 작성해 주세요.**\n",
    "\n",
    "- 완성하려는 문장 안에 q나 b가 들어가지 않는다고 가정합니다.\n",
    "\n",
    "```python\n",
    "**입출력**\n",
    "\n",
    "입력 : querty\n",
    "출력 : euerty\n",
    "\n",
    "입력 : hqllo my bamq is hyqwob\n",
    "출력 : hello my bame is hyewob\n",
    "```"
   ]
  },
  {
   "cell_type": "code",
   "execution_count": 7,
   "id": "87ed512b",
   "metadata": {
    "scrolled": true
   },
   "outputs": [
    {
     "ename": "SyntaxError",
     "evalue": "invalid syntax (<ipython-input-7-a3eaff709bea>, line 2)",
     "output_type": "error",
     "traceback": [
      "\u001b[0;36m  File \u001b[0;32m\"<ipython-input-7-a3eaff709bea>\"\u001b[0;36m, line \u001b[0;32m2\u001b[0m\n\u001b[0;31m    print(user_input.replace('q', 'e').replace('b', 'n')).\u001b[0m\n\u001b[0m                                                          ^\u001b[0m\n\u001b[0;31mSyntaxError\u001b[0m\u001b[0;31m:\u001b[0m invalid syntax\n"
     ]
    }
   ],
   "source": [
    "user_input = input()\n",
    "print(user_input.replace('q', 'e').replace('b', 'n'))."
   ]
  },
  {
   "cell_type": "markdown",
   "id": "bab1f55b",
   "metadata": {},
   "source": [
    "- replace() 치환함수. 대상 문자열에서 검색 문자를 지정하여 일치하는 문자가 있으면 원하는 문자로 바꿈\n",
    "- 문자열.replace(“검색 문자”, “치환 문자” [, 치환 횟수])\n",
    "    - 검색 문자: 문자열에서 찾을 문자를 지정\n",
    "    - 치환 문자: 변경하고 싶은 문자\n",
    "    - 치환 횟수: 치환 하고 싶은 횟수(생략 가능)"
   ]
  },
  {
   "cell_type": "markdown",
   "id": "522ff7ae",
   "metadata": {},
   "source": [
    "### 40. 놀이동산에 가자\n",
    "\n",
    "테마파크에 온 원범이와 친구들은 놀이기구를 타려고 합니다. 모든 놀이기구는 한번에 타는 인원수에는 제한이 없지만 제한 무게를 넘으면 무조건 다음 기구를 타야 합니다. \n",
    "\n",
    "**원범이와 친구들이 총 몇 명 탈 수 있는지 알 수 있는 프로그램을 작성해 주세요.**\n",
    "\n",
    "첫번째 줄에서 제한 무게가 주어지고 두번째 줄에서는 함께한 친구들의 수 n이 주어집니다. \n",
    "그 다음 차례대로 탑승할 친구들의 몸무게가 주어집니다. 몸무게는 무작위로 주어집니다.\n",
    "\n",
    "- 단, 놀이기구는 선착순으로만 탈 수 있습니다.\n",
    "- 두 명 이상의 인원이 항상 탑승합니다.\n",
    "\n",
    "```python\n",
    "**입력**\n",
    "\n",
    "50\n",
    "5\n",
    "20\n",
    "20\n",
    "20\n",
    "20\n",
    "20\n",
    "\n",
    "**출력**\n",
    "2\n",
    "```"
   ]
  },
  {
   "cell_type": "code",
   "execution_count": 8,
   "id": "96d14d01",
   "metadata": {},
   "outputs": [
    {
     "name": "stdout",
     "output_type": "stream",
     "text": [
      "50 5 20 20 20 20 20\n"
     ]
    },
    {
     "ename": "ValueError",
     "evalue": "invalid literal for int() with base 10: '50 5 20 20 20 20 20'",
     "output_type": "error",
     "traceback": [
      "\u001b[0;31m---------------------------------------------------------------------------\u001b[0m",
      "\u001b[0;31mValueError\u001b[0m                                Traceback (most recent call last)",
      "\u001b[0;32m<ipython-input-8-9131a6f1aa1f>\u001b[0m in \u001b[0;36m<module>\u001b[0;34m\u001b[0m\n\u001b[0;32m----> 1\u001b[0;31m \u001b[0m제한무게\u001b[0m \u001b[0;34m=\u001b[0m \u001b[0mint\u001b[0m\u001b[0;34m(\u001b[0m\u001b[0minput\u001b[0m\u001b[0;34m(\u001b[0m\u001b[0;34m)\u001b[0m\u001b[0;34m)\u001b[0m\u001b[0;34m\u001b[0m\u001b[0;34m\u001b[0m\u001b[0m\n\u001b[0m\u001b[1;32m      2\u001b[0m \u001b[0m친구수\u001b[0m \u001b[0;34m=\u001b[0m \u001b[0mint\u001b[0m\u001b[0;34m(\u001b[0m\u001b[0minput\u001b[0m\u001b[0;34m(\u001b[0m\u001b[0;34m)\u001b[0m\u001b[0;34m)\u001b[0m\u001b[0;34m\u001b[0m\u001b[0;34m\u001b[0m\u001b[0m\n\u001b[1;32m      3\u001b[0m \u001b[0m친구몸무게\u001b[0m \u001b[0;34m=\u001b[0m \u001b[0;34m[\u001b[0m\u001b[0;34m]\u001b[0m\u001b[0;34m\u001b[0m\u001b[0;34m\u001b[0m\u001b[0m\n\u001b[1;32m      4\u001b[0m \u001b[0;32mfor\u001b[0m \u001b[0mi\u001b[0m \u001b[0;32min\u001b[0m \u001b[0mrange\u001b[0m\u001b[0;34m(\u001b[0m\u001b[0m친구수\u001b[0m\u001b[0;34m)\u001b[0m\u001b[0;34m:\u001b[0m\u001b[0;34m\u001b[0m\u001b[0;34m\u001b[0m\u001b[0m\n\u001b[1;32m      5\u001b[0m     \u001b[0m친구몸무게\u001b[0m\u001b[0;34m.\u001b[0m\u001b[0mappend\u001b[0m\u001b[0;34m(\u001b[0m\u001b[0mint\u001b[0m\u001b[0;34m(\u001b[0m\u001b[0minput\u001b[0m\u001b[0;34m(\u001b[0m\u001b[0;34m)\u001b[0m\u001b[0;34m)\u001b[0m\u001b[0;34m)\u001b[0m\u001b[0;34m\u001b[0m\u001b[0;34m\u001b[0m\u001b[0m\n",
      "\u001b[0;31mValueError\u001b[0m: invalid literal for int() with base 10: '50 5 20 20 20 20 20'"
     ]
    }
   ],
   "source": [
    "제한무게 = int(input())\n",
    "친구수 = int(input())\n",
    "친구몸무게 = []\n",
    "for i in range(친구수):\n",
    "    친구몸무게.append(int(input()))\n",
    "\n",
    "전체몸무게 = 0\n",
    "for i in range(len(친구몸무게)):\n",
    "    전체몸무게 += 친구몸무게[i]\n",
    "    print(전체몸무게, 제한무게)\n",
    "    if 전체몸무게 > 제한무게:\n",
    "        print(i)\n",
    "        break"
   ]
  },
  {
   "cell_type": "markdown",
   "id": "b2b3d176",
   "metadata": {},
   "source": [
    "### 41. 소수판별 \n",
    "\n",
    "숫자가 주어지면 **소수인지 아닌지 판별하는 프로그램**을 작성해주세요.\n",
    "소수이면 YES로, 소수가 아니면 NO로 출력해주세요.\n",
    "\n",
    "- 소수 : 1과 자기 자신만으로 나누어떨어지는 1보다 큰 양의 정수\n",
    "- 음의 소수는 고려하지 않습니다."
   ]
  },
  {
   "cell_type": "code",
   "execution_count": 9,
   "id": "119ec829",
   "metadata": {},
   "outputs": [
    {
     "name": "stdout",
     "output_type": "stream",
     "text": [
      "NO\n"
     ]
    }
   ],
   "source": [
    "   x = 1\n",
    "if x <= 1:\n",
    "    print('NO') #음의 소수는 고려하지 않음\n",
    "elif x == 2:\n",
    "    print('YES')\n",
    "else:\n",
    "    for i in range(2, x):\n",
    "        if x % i == 0:\n",
    "            print('NO')\n",
    "            break\n",
    "    else:\n",
    "        print('YES')"
   ]
  },
  {
   "cell_type": "markdown",
   "id": "4596a4ac",
   "metadata": {},
   "source": [
    "### 42. 요일 구하기(datetime 모듈 사용)\n",
    "2020년 1월 1일은 수요일입니다. 2020년 a월 b일은 무슨 요일일까요?\n",
    "두 수 a, b를 입력받아 2020년 a월 b일이 무슨 요일인지 리턴하는 함수, solution을 완성하세요.\n",
    "요일의 이름은 일요일부터 토요일까지 각각 SUN, MON, TUE, WED, THU, FRI, SAT 입니다.\n",
    "\n",
    "예를 들어 a = 5, b = 24라면 5월 24일은 일요일이므로 문자열 \"SUN\"를 반환하세요.\n",
    "\n",
    "**제한 조건**\n",
    "\n",
    "- 2020년은 윤년입니다.\n",
    "- 2020년 a월 b일은 실제로 있는 날입니다. \n",
    "(13월 26일이나 2월 45일 같은 날짜는 주어지지 않습니다.)\n",
    "- datetime 모듈을 사용하세요."
   ]
  },
  {
   "cell_type": "code",
   "execution_count": null,
   "id": "55449762",
   "metadata": {},
   "outputs": [],
   "source": []
  },
  {
   "cell_type": "markdown",
   "id": "a2e96a38",
   "metadata": {},
   "source": [
    "### 43. 10진수를 2진수로\n",
    "우리가 흔히 사용하는 숫자 1, 8, 19, 28893 등등...은 10진수 체계입니다.\n",
    "이를 컴퓨터가 알아 들을 수 있는 2진수로 바꾸려고 합니다. 어떻게 해야할까요?\n",
    "\n",
    "예를들어 13은 2^3 + 2^2 + 2^0 = 13 이기때문에 1101으로 표현합니다\n",
    "\n",
    "**사용자에게 숫자를 입력받고 이를 2진수를 바꾸고 그 값을 출력해주세요.**\n",
    "(bin 함수를 사용하지 않고 풀어주세요.)"
   ]
  },
  {
   "cell_type": "code",
   "execution_count": 10,
   "id": "b4b03ad7",
   "metadata": {},
   "outputs": [
    {
     "name": "stdout",
     "output_type": "stream",
     "text": [
      "13\n",
      "13\n",
      "6\n",
      "3\n",
      "1\n",
      "['1', '0', '1', '1']\n",
      "['1', '1', '0', '1']\n",
      "1101\n"
     ]
    }
   ],
   "source": [
    "a = int(input())\n",
    "b = []\n",
    "\n",
    "while a:\n",
    "    print(a)\n",
    "    b.append(str(a % 2))\n",
    "    a = int(a / 2)\n",
    "\n",
    "print(b)\n",
    "b.reverse()\n",
    "print(b)\n",
    "print(''.join(b))"
   ]
  },
  {
   "cell_type": "markdown",
   "id": "261fc94b",
   "metadata": {},
   "source": [
    "### 44. 각 자리수의 합\n",
    "\n",
    "사용자가 입력한 양의 정수의 각 자리수의 합을 구하는 프로그램을 만들어주세요\n",
    "\n",
    "예를들어\n",
    "18234 = 1+8+2+3+4 이고 정답은 18 입니다.\n",
    "3849 = 3+8+4+9 이고 정답은 24입니다."
   ]
  },
  {
   "cell_type": "code",
   "execution_count": 11,
   "id": "9274d05a",
   "metadata": {},
   "outputs": [
    {
     "name": "stdout",
     "output_type": "stream",
     "text": [
      "124353\n",
      "18\n"
     ]
    }
   ],
   "source": [
    "n = list(map(int,input()))\n",
    "#map은 리스트의 요소를 지정된 함수로 처리해주는 함수\n",
    "result = 0\n",
    "for i in n:\n",
    "    #n의 길이 만큼 반복하는 i, 그동안 n의 i 인덱스 값을 result에 계속 더해줌\n",
    "    result += i\n",
    "    \n",
    "print(result)"
   ]
  },
  {
   "cell_type": "markdown",
   "id": "9325ff9a",
   "metadata": {},
   "source": [
    "### 45. time함수 사용하기\n",
    "python의 모듈 중 하나인 **time 모듈**은 1970년 1월 1일 0시 0분 0초 이후로부터 지금까지 흐른 시간을 초단위로 반환합니다\n",
    "\n",
    "이를 이용하여 **현재 연도(2021)를 출력해보세요**"
   ]
  },
  {
   "cell_type": "code",
   "execution_count": 12,
   "id": "29eeccdc",
   "metadata": {},
   "outputs": [
    {
     "name": "stdout",
     "output_type": "stream",
     "text": [
      "2021\n"
     ]
    }
   ],
   "source": [
    "import time\n",
    "t = time.time()\n",
    "# 현재 시간 출력, UTC(협정세계시)를 출력\n",
    "t = int(t//(3600*24*365))+1970 #(하루의 초 수 * 하루의 시간 * 일 년의 시간)+1970년\n",
    "print(t)"
   ]
  },
  {
   "cell_type": "markdown",
   "id": "fefb7dbe",
   "metadata": {},
   "source": [
    "### 46.  str 자료형의 응용\n",
    "1부터 100까지의(100을 포함) 모든 숫자를 일렬로 놓고 모든 자릿수의 총 합을 구하세요. \n",
    "\n",
    "예를 들어 10부터 15까지의 모든 숫자를 일렬로 놓으면 101112131415이고 각 자리의 숫자를 더하면 25입니다."
   ]
  },
  {
   "cell_type": "code",
   "execution_count": 13,
   "id": "1553f9b6",
   "metadata": {},
   "outputs": [
    {
     "name": "stdout",
     "output_type": "stream",
     "text": [
      "0123456789101112131415161718192021222324252627282930313233343536373839404142434445464748495051525354555657585960616263646566676869707172737475767778798081828384858687888990919293949596979899100\n",
      "901\n"
     ]
    }
   ],
   "source": [
    "s = ''\n",
    "for i in range(101): #100까지 반복해서 더함\n",
    "    s += str(i)\n",
    "print(s)\n",
    "result = 0\n",
    "for i in s:\n",
    "    result += int(i)\n",
    "print(result)"
   ]
  },
  {
   "cell_type": "markdown",
   "id": "120eb28c",
   "metadata": {},
   "source": [
    "### 47. set 자료형의 응용\n",
    "바울랩에서는 3월 29일 제주대학교에서 '제주 빅데이터 사회혁신 해커톤' 행사를 주최하게 되었습니다. 이에 구글 설문지를 배포하였으나 제주대학생들이 중복해서 n개씩 설문지를 제출하였습니다. **중복된 데이터들을 삭제하여 실제 접수 명단이 몇 명인지 알고 싶습니다.**\n",
    "\n",
    "아래 주어진 데이터들로부터 중복을 제거하여 실제 접수 인원을 출력해 주세요.\n",
    "\n",
    "```python\n",
    "people = [\n",
    "         ('이호준', '01050442903'),\n",
    "         ('이호상', '01051442904'),\n",
    "         ('이준호', '01050342904'),\n",
    "         ('이호준', '01050442903'),\n",
    "         ('이준', '01050412904'),\n",
    "         ('이호', '01050443904'),\n",
    "         ('이호준', '01050442903'),\n",
    "         ]\n",
    "```"
   ]
  },
  {
   "cell_type": "code",
   "execution_count": 14,
   "id": "076552f9",
   "metadata": {},
   "outputs": [
    {
     "name": "stdout",
     "output_type": "stream",
     "text": [
      "5\n"
     ]
    }
   ],
   "source": [
    "people = [\n",
    "         ('이호준', '01050004429'),\n",
    "         ('이호상', '01051442904'),\n",
    "         ('이준호', '01050003429'),\n",
    "         ('이호준', '01050004429'),\n",
    "         ('이준', '01050412904'),\n",
    "         ('이호', '0105000443904'),\n",
    "         ('이호준', '01050004429'),\n",
    "         ]\n",
    "\n",
    "print(len(set(people)))\n",
    "# set 함수로 중복되지 않은 인덱스만 구하기\n",
    "# len 함수로 텍스트 문자열 내의 문자 개수를 구하기"
   ]
  },
  {
   "cell_type": "markdown",
   "id": "758f4c37",
   "metadata": {},
   "source": [
    "### 48. 대소문자 바꿔서 출력하기\n",
    "문자열이 주어지면 대문자와 소문자를 바꿔서 출력하는 프로그램을 작성하세요."
   ]
  },
  {
   "cell_type": "code",
   "execution_count": 15,
   "id": "486e0a54",
   "metadata": {},
   "outputs": [
    {
     "name": "stdout",
     "output_type": "stream",
     "text": [
      "dsfhaDDKf\n",
      "DSFHAddkF"
     ]
    }
   ],
   "source": [
    "a = input()\n",
    "b = []\n",
    "\n",
    "for i in a:\n",
    "    if i.islower(): #소문자일 경우\n",
    "        b.append(i.upper()) #대문자로 변환해서 b에 저장\n",
    "    else: #소문자가 아닐 경우 (=대문자일 경우)\n",
    "        b.append(i.lower()) #소문자로 변환해서 b에 저장\n",
    "\n",
    "for i in b: \n",
    "    print(i, end='')"
   ]
  },
  {
   "cell_type": "markdown",
   "id": "150b79e0",
   "metadata": {},
   "source": [
    "### 49. 최댓값 구하기\n",
    "순서가 없는 10개의 숫자가 공백으로 구분되어 주어진다. 주어진 숫자들 중 최댓값을 반환하라.\n",
    "\n",
    "입력\n",
    "\n",
    "```\n",
    "10 9 8 7 6 5 4 3 2 1\n",
    "```\n",
    "\n",
    "출력\n",
    "\n",
    "```\n",
    "10\n",
    "```"
   ]
  },
  {
   "cell_type": "code",
   "execution_count": 16,
   "id": "48ebaaa1",
   "metadata": {},
   "outputs": [
    {
     "name": "stdout",
     "output_type": "stream",
     "text": [
      "10 9 8 7 6 5 4 3 2 1\n",
      "10\n"
     ]
    }
   ],
   "source": [
    "data = list(map(int, input().split()))\n",
    "#input으로 받은 값을 정수형 int로 만들고 split()로 리스트의 인덱스로 만듦\n",
    "#map은 리스트의 요소를 지정된 함수로 처리함\n",
    "print(sorted(data)[-1])\n"
   ]
  },
  {
   "cell_type": "code",
   "execution_count": 23,
   "id": "e0d0de90",
   "metadata": {
    "scrolled": true
   },
   "outputs": [
    {
     "name": "stdout",
     "output_type": "stream",
     "text": [
      "10 9 8 7 6 5 4 3 2 1\n"
     ]
    },
    {
     "ename": "TypeError",
     "evalue": "'>' not supported between instances of 'list' and 'type'",
     "output_type": "error",
     "traceback": [
      "\u001b[0;31m---------------------------------------------------------------------------\u001b[0m",
      "\u001b[0;31mTypeError\u001b[0m                                 Traceback (most recent call last)",
      "\u001b[0;32m<ipython-input-23-569045a7f2f2>\u001b[0m in \u001b[0;36m<module>\u001b[0;34m\u001b[0m\n\u001b[1;32m      1\u001b[0m \u001b[0mdata\u001b[0m \u001b[0;34m=\u001b[0m \u001b[0mlist\u001b[0m\u001b[0;34m(\u001b[0m\u001b[0;34m(\u001b[0m\u001b[0mint\u001b[0m\u001b[0;34m,\u001b[0m \u001b[0minput\u001b[0m\u001b[0;34m(\u001b[0m\u001b[0;34m)\u001b[0m\u001b[0;34m.\u001b[0m\u001b[0msplit\u001b[0m\u001b[0;34m(\u001b[0m\u001b[0;34m)\u001b[0m\u001b[0;34m)\u001b[0m\u001b[0;34m)\u001b[0m\u001b[0;34m\u001b[0m\u001b[0;34m\u001b[0m\u001b[0m\n\u001b[0;32m----> 2\u001b[0;31m \u001b[0mprint\u001b[0m\u001b[0;34m(\u001b[0m\u001b[0mmax\u001b[0m\u001b[0;34m(\u001b[0m\u001b[0mdata\u001b[0m\u001b[0;34m)\u001b[0m\u001b[0;34m)\u001b[0m\u001b[0;34m\u001b[0m\u001b[0;34m\u001b[0m\u001b[0m\n\u001b[0m",
      "\u001b[0;31mTypeError\u001b[0m: '>' not supported between instances of 'list' and 'type'"
     ]
    }
   ],
   "source": [
    "data = list((int, input().split()))\n",
    "print(max(data))"
   ]
  },
  {
   "cell_type": "markdown",
   "id": "c39a1393",
   "metadata": {},
   "source": [
    "### 50. 버블정렬 구현하기\n",
    "버블정렬은 두 인접한 원소를 검사하여 정렬하는 방법을 말합니다. 시간 복잡도는 느리지만 코드가 단순하기 때문에 자주 사용됩니다.\n",
    "\n",
    "아래 코드의 빈 칸을 채워 버블 정렬을 완성해 봅시다.\n",
    "\n",
    "```python\n",
    "def bubble(n, data):\n",
    "\tfor i in range(n-1):\n",
    "\t\tfor j in range(빈칸을 채워주세요):\n",
    "\t\t\tif data[j] > data[j+1]:\n",
    "\t\t\t\t빈칸을 채워주세요\n",
    "\tfor i in range(n):\n",
    "\t\tprint(data[i], end = \" \")\n",
    "\n",
    "n = int(input())\n",
    "data = list(map(int, input().split()))\n",
    "\n",
    "bubble(n, data)\n",
    "```"
   ]
  }
 ],
 "metadata": {
  "kernelspec": {
   "display_name": "Python 3",
   "language": "python",
   "name": "python3"
  },
  "language_info": {
   "codemirror_mode": {
    "name": "ipython",
    "version": 3
   },
   "file_extension": ".py",
   "mimetype": "text/x-python",
   "name": "python",
   "nbconvert_exporter": "python",
   "pygments_lexer": "ipython3",
   "version": "3.8.8"
  }
 },
 "nbformat": 4,
 "nbformat_minor": 5
}
