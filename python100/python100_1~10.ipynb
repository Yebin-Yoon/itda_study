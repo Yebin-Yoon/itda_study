{
 "cells": [
  {
   "cell_type": "markdown",
   "id": "ee59285b",
   "metadata": {},
   "source": [
    "### 1. 다음 리스트에서 400, 500를 삭제하는 code를 입력하세요.\n",
    "```python\n",
    "nums = [100, 200, 300, 400, 500]\n",
    "```"
   ]
  },
  {
   "cell_type": "code",
   "execution_count": 6,
   "id": "8ce7e26a",
   "metadata": {},
   "outputs": [
    {
     "name": "stdout",
     "output_type": "stream",
     "text": [
      "[100, 200, 300]\n"
     ]
    }
   ],
   "source": [
    "nums = [100, 200, 300, 400, 500]\n",
    "nums.remove(400)\n",
    "nums.remove(500)\n",
    "print (nums)"
   ]
  },
  {
   "cell_type": "code",
   "execution_count": 16,
   "id": "bfbb9c89",
   "metadata": {},
   "outputs": [
    {
     "data": {
      "text/plain": [
       "[100, 200, 300]"
      ]
     },
     "execution_count": 16,
     "metadata": {},
     "output_type": "execute_result"
    }
   ],
   "source": [
    "nums = [100, 200, 300, 400, 500]\n",
    "nums[0:3]"
   ]
  },
  {
   "cell_type": "markdown",
   "id": "f093a369",
   "metadata": {},
   "source": [
    "### 2. pass 부분에 리스트 내장함수를 insert를 이용하여 코드를 입력하고 다음과 같이 출력되게 하세요.\n",
    "```\n",
    "l = [200, 100, 300]\n",
    "<pass>\n",
    "print(l)\n",
    ">> [200, 100, 10000, 300]\n",
    "```"
   ]
  },
  {
   "cell_type": "code",
   "execution_count": 19,
   "id": "7a730fb5",
   "metadata": {},
   "outputs": [
    {
     "name": "stdout",
     "output_type": "stream",
     "text": [
      "[200, 100, 1000, 300]\n"
     ]
    }
   ],
   "source": [
    "l = [200, 100, 300]\n",
    "l.insert (2,1000)\n",
    "print (l)"
   ]
  },
  {
   "cell_type": "markdown",
   "id": "f0eea38b",
   "metadata": {},
   "source": [
    "### 3. 다음 출력 값으로 올바른 것은?\n",
    "```python\n",
    "l = [100, 200, 300]\n",
    "print(type(l))\n",
    "```\n",
    "1)  class 'str'\n",
    "2)  class 'int'\n",
    "3)  class 'list'\n",
    "4)  class 'tuple'"
   ]
  },
  {
   "cell_type": "markdown",
   "id": "4fb607cc",
   "metadata": {},
   "source": [
    "**3번 class 'list', 리스트 자료형의 대괄호[ ]를 사용함"
   ]
  },
  {
   "cell_type": "markdown",
   "id": "87d68f7f",
   "metadata": {},
   "source": [
    "### 4. 다음 변수 a를 print(type(a))로 넣었을 때 출력될 값과의 연결이 알맞지 않은 것은?\n",
    "\n",
    "1)  입력 : a =1,   출력 : class 'int'\n",
    "\n",
    "2)  입력 : a = 2.22,   출력 : class 'float'\n",
    "\n",
    "3)  입력 : a = 'p',   출력 : class 'char'\n",
    "\n",
    "4)  입력 : a = [1, 2, 3],   출력 : class 'list'\n",
    "\n",
    "**3번, 문자열 자료형이므로 class 'str'이 나와야함.**"
   ]
  },
  {
   "cell_type": "markdown",
   "id": "133c10ea",
   "metadata": {},
   "source": [
    "### 5. 다음 코드의 출력 값으로 알맞은 것은?\n",
    "```python\n",
    "a = 10\n",
    "b = 2\n",
    "for i in range(1, 5, 2):\n",
    "    a += i\n",
    "\n",
    "print(a+b)\n",
    "```\n",
    "1.  10\n",
    "2.  12\n",
    "3.  14\n",
    "4.  16"
   ]
  },
  {
   "cell_type": "markdown",
   "id": "4faccbeb",
   "metadata": {},
   "source": [
    "**4번, range(1, 5, 2)은 숫자 1부터 4까지 2 간격의(1 이상 5 미만의 2 간격) 숫자를 데이터로 갖는 객체이다. 따라서 위 예에서 i 변수에 리스트의 숫자가 1부터 4까지 하나씩 차례로 대입되면서 a += i 문장을 반복적으로 수행하고 a는 최종적으로 14가 된다. print (a+b)를 하면 4번인 16이 나오게 된다.** "
   ]
  },
  {
   "cell_type": "markdown",
   "id": "9f8dd3aa",
   "metadata": {},
   "source": [
    "### 6. True를 찾아주세요.\n",
    "\n",
    "1. None\n",
    "2. 1\n",
    "3. \"\"\n",
    "4. 0\n",
    "5. bool(0)\n",
    "\n",
    "**2번, 1은 True이다.**"
   ]
  },
  {
   "cell_type": "markdown",
   "id": "8b16c502",
   "metadata": {},
   "source": [
    "### 7. 다음 중 변수명으로 사용할 수 없는 것 2개를 고르시오.\n",
    "\n",
    "1. age\n",
    "2. a\n",
    "3. as\n",
    "4. _age\n",
    "5. 1age\n",
    "\n",
    "**3번, 5번. python 변수명을 선언할 때, 특별한 의미가 있는 예약어는 사용할 수 없으므로 as는 변수명으로 사용할 수 없다. 그리고 변수명 앞에 숫자가 올 수 없으므로 1age는 변수명으로 사용할 수 없다.**"
   ]
  },
  {
   "cell_type": "markdown",
   "id": "bcbbda5c",
   "metadata": {},
   "source": [
    "### 8. 딕셔너리를 다음과 같이 만들었다. 출력값을 입력하시오. (출력값은 공백을 넣지 않습니다. )\n",
    "```python\n",
    "d = {'height':180,'weight':78,'weight':84,'temparture':36,'eyesight':1}\n",
    "print(d['weight'])\n",
    "```"
   ]
  },
  {
   "cell_type": "code",
   "execution_count": 20,
   "id": "c10c88f0",
   "metadata": {
    "scrolled": true
   },
   "outputs": [
    {
     "name": "stdout",
     "output_type": "stream",
     "text": [
      "84\n"
     ]
    }
   ],
   "source": [
    "d = {'height':180,'weight':78,'weight':84,'temparture':36,'eyesight':1}\n",
    "print(d['weight'])"
   ]
  },
  {
   "cell_type": "markdown",
   "id": "e8c04a8a",
   "metadata": {},
   "source": [
    "### 9. 다음 소스 코드를 완성하여 날짜와 시간을 출력하시오.\n",
    "```python\n",
    "year = '2019'\n",
    "month = '04'\n",
    "day = '26'\n",
    "hour = '11'\n",
    "minute = '34'\n",
    "second = '27'\n",
    "\n",
    "print(year, month, day, )\n",
    "print(hour, minute, second, )\n",
    "\n",
    ">>  2019/04/26 11:34:27\n",
    "```"
   ]
  },
  {
   "cell_type": "code",
   "execution_count": 22,
   "id": "16ea089b",
   "metadata": {},
   "outputs": [
    {
     "name": "stdout",
     "output_type": "stream",
     "text": [
      "2019/04/26 11:34:27\n"
     ]
    }
   ],
   "source": [
    "year = '2019'\n",
    "month = '04'\n",
    "day = '26'\n",
    "hour = '11'\n",
    "minute = '34'\n",
    "second = '27'\n",
    "\n",
    "print(year, month, day, sep = \"/\", end = ' ')\n",
    "print(hour, minute, second, sep = \":\" )"
   ]
  },
  {
   "cell_type": "markdown",
   "id": "91edb1ab",
   "metadata": {},
   "source": [
    "### 10. 크리스마스 날, 은비는 친구들과 함께 파티를 하기로 했습니다. 그런데, 크리스마스 트리를 사는 것을 깜빡하고 말았습니다. 온 가게를 돌아다녀 봤지만 크리스마스 트리는 모두 품절이었습니다. 하는 수 없이 은비는 프로그래밍으로 트리를 만들기로 합니다. 은비를 위해 프로그램을 작성해 주세요."
   ]
  },
  {
   "cell_type": "code",
   "execution_count": 34,
   "id": "4dea8ef8",
   "metadata": {},
   "outputs": [
    {
     "name": "stdout",
     "output_type": "stream",
     "text": [
      "                  *\n",
      "                 ***\n",
      "                *****\n",
      "               *******\n",
      "              *********\n",
      "             ***********\n",
      "            *************\n",
      "           ***************\n",
      "          *****************\n",
      "         *******************\n",
      "        *********************\n",
      "       ***********************\n",
      "      *************************\n",
      "     ***************************\n",
      "    *****************************\n",
      "   *******************************\n",
      "  *********************************\n",
      " ***********************************\n",
      "*************************************\n"
     ]
    }
   ],
   "source": [
    "for i in range (1,20):\n",
    "    for j in range (19 - i):\n",
    "        print (' ',end = \"\")\n",
    "    for j in range (1,i * 2,1):\n",
    "        print ('*',end = \"\")\n",
    "    print('')"
   ]
  }
 ],
 "metadata": {
  "kernelspec": {
   "display_name": "Python 3",
   "language": "python",
   "name": "python3"
  },
  "language_info": {
   "codemirror_mode": {
    "name": "ipython",
    "version": 3
   },
   "file_extension": ".py",
   "mimetype": "text/x-python",
   "name": "python",
   "nbconvert_exporter": "python",
   "pygments_lexer": "ipython3",
   "version": "3.8.8"
  }
 },
 "nbformat": 4,
 "nbformat_minor": 5
}
