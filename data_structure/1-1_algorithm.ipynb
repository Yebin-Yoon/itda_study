{
 "cells": [
  {
   "cell_type": "markdown",
   "id": "26ea96ec",
   "metadata": {},
   "source": [
    "# 01-1 알고리즘 \n",
    "**어떠한 문제를 해결하기 위해 정해 놓은 일련의 절차**"
   ]
  },
  {
   "cell_type": "code",
   "execution_count": 2,
   "id": "319e8008",
   "metadata": {},
   "outputs": [
    {
     "name": "stdout",
     "output_type": "stream",
     "text": [
      "세 정수의 최댓값을 구합니다.\n",
      "정수 a의 값을 입력하세요.: 1\n",
      "정수 b의 값을 입력하세요.: 3\n",
      "정수 c의 값을 입력하세요.: 2\n",
      "최댓값은 3입니다.\n"
     ]
    }
   ],
   "source": [
    "#세 정수의 최댓값 구하기\n",
    "\n",
    "print ('세 정수의 최댓값을 구합니다.')\n",
    "a = int(input('정수 a의 값을 입력하세요.: '))\n",
    "b = int(input('정수 b의 값을 입력하세요.: '))\n",
    "c = int(input('정수 c의 값을 입력하세요.: '))\n",
    "\n",
    "maximum = a #maximum에 a의 값을 대입\n",
    "if b > maximum: maximum = b #만약 b의 값이 #maximum보다 클 경우, maximum에 a의 값을 대입\n",
    "if c > maximum: maximum = c #만약 c의 값이 #maximum보다 클 경우, maximum에 c의 값을 대입\n",
    "    \n",
    "print(f'최댓값은 {maximum}입니다.')"
   ]
  },
  {
   "cell_type": "markdown",
   "id": "d35e7152",
   "metadata": {},
   "source": [
    "```\n",
    "maximum = a #maximum에 a의 값을 대입\n",
    "if b > maximum: maximum = b #만약 b의 값이 #maximum보다 클 경우, maximum에 a의 값을 대입\n",
    "if c > maximum: maximum = c #만약 c의 값이 #maximum보다 클 경우, maximum에 c의 값을 대입\n",
    "```\n",
    "- 순차구조: 한 문장씩 순서대로 처리되는 구조\n",
    "- 조건식: if와 콜론(:) 사이에 있는 식\n",
    "- 선택구조: 조건식으로 평가한 결과에 따라 프로그램의 실행흐름이 변경되는 구조"
   ]
  },
  {
   "cell_type": "code",
   "execution_count": 4,
   "id": "f1b46f46",
   "metadata": {},
   "outputs": [
    {
     "name": "stdout",
     "output_type": "stream",
     "text": [
      "이름을 입력하세요: 예빈\n",
      "안녕하세요?예빈님.\n"
     ]
    }
   ],
   "source": [
    "#문자열과 숫자 입력받기\n",
    "print('이름을 입력하세요: ', end='')\n",
    "name = input()\n",
    "print(f'안녕하세요?{name}님.')"
   ]
  },
  {
   "cell_type": "markdown",
   "id": "667b9db2",
   "metadata": {},
   "source": [
    "input()으로 받은 문자열을 10진수 정수형으로 변환해야할 때 int()/float() 함수를 사용한다"
   ]
  },
  {
   "cell_type": "code",
   "execution_count": 7,
   "id": "5d852f17",
   "metadata": {},
   "outputs": [
    {
     "data": {
      "text/plain": [
       "6"
      ]
     },
     "execution_count": 7,
     "metadata": {},
     "output_type": "execute_result"
    }
   ],
   "source": [
    "#문자열을 정수로 형 변환\n",
    "int('17') #10진수 문자열을 10진수 정수형으로 변환(기본)ㅠ"
   ]
  },
  {
   "cell_type": "markdown",
   "id": "39dd8160",
   "metadata": {},
   "source": [
    "int('17') **10진수문자열을 10진수 정수형으로 변환(기본)**\n",
    ">17\n",
    "\n",
    "int('0b110', 2 )**2진수문자열을 10진수 정수형으로 변환**\n",
    ">6\n",
    "\n",
    "int ('0075', 8) **8진수문자열을 10진수 정수형으로 변환**\n",
    ">61\n",
    "\n",
    "int('13', 10) **10진수문자열을 10진수 정수형으로 변환**\n",
    ">13\n",
    "\n",
    "int ('0x3F', 16) **16진수문자열을 10진수 정수형으로 변환**\n",
    ">63\n",
    "\n",
    "float('3.14') **문자열을 실수형으로 변환**\n",
    ">3.14"
   ]
  },
  {
   "cell_type": "markdown",
   "id": "de554364",
   "metadata": {},
   "source": [
    "## 복합문의 구조\n",
    "**헤더**와 **스위트**로 구성되어 있음"
   ]
  },
  {
   "cell_type": "code",
   "execution_count": 8,
   "id": "5228fecf",
   "metadata": {},
   "outputs": [],
   "source": [
    "#복합문을 작성할 때 지켜야 할 규칙\n",
    "if a < b:\n",
    "    min2 = a #공백 4개로 들여쓰기\n",
    "    min2 = b #if a < b에 종속되어 실행될 수 있도록 공백 4개로 들여쓰기"
   ]
  },
  {
   "cell_type": "code",
   "execution_count": 10,
   "id": "dc68482a",
   "metadata": {},
   "outputs": [],
   "source": [
    "#단순문이 2개 이상일 경우\n",
    "if a < b: min2 = a # 단순문 1\n",
    "if a < b: min2 = a; max2 = b # 단순문 2\n",
    "if a < b: min2 = a; max2 = b; #세미콜론을 추가한 단순문 2"
   ]
  },
  {
   "cell_type": "code",
   "execution_count": 11,
   "id": "042fa859",
   "metadata": {},
   "outputs": [
    {
     "ename": "SyntaxError",
     "evalue": "invalid syntax (<ipython-input-11-9c88e7626397>, line 2)",
     "output_type": "error",
     "traceback": [
      "\u001b[0;36m  File \u001b[0;32m\"<ipython-input-11-9c88e7626397>\"\u001b[0;36m, line \u001b[0;32m2\u001b[0m\n\u001b[0;31m    if a < b: if c < d: x = u #헤더와 ㅏㅌ은 행에 복합문을 둘 수 없음\u001b[0m\n\u001b[0m              ^\u001b[0m\n\u001b[0;31mSyntaxError\u001b[0m\u001b[0;31m:\u001b[0m invalid syntax\n"
     ]
    }
   ],
   "source": [
    "#스위트가 복합문일 경우, 헤더와 스위트를 같은 행에 포함시킬 수 없음\n",
    "if a < b: if c < d: x = u #헤더와 ㅏㅌ은 행에 복합문을 둘 수 없음"
   ]
  },
  {
   "cell_type": "code",
   "execution_count": 1,
   "id": "094aa7b8",
   "metadata": {},
   "outputs": [
    {
     "name": "stdout",
     "output_type": "stream",
     "text": [
      "세 정수의 중앙값을 구합니다\n",
      "정수 a의 값을 입력하세요.: 1\n",
      "정수 b의 값을 입력하세요.: 3\n",
      "정수 c의 값을 입력하세요.: 2\n",
      "중앙값은2입니다\n"
     ]
    }
   ],
   "source": [
    "#세 정수를 입력받아 중앙값 구하기 1\n",
    "\n",
    "def med3(a,b,c):\n",
    "    \"\"\"a,b,c의 중앙값을 구하여 반환\"\"\"\n",
    "    if a >= b: #만약 a가 b 이상일 경우\n",
    "        if b >= c: # b가 c 이상일 경우\n",
    "            return b #b로 반환\n",
    "        elif a <= c:\n",
    "            return a\n",
    "        else:\n",
    "            return c\n",
    "    elif a > c:\n",
    "        return a\n",
    "    elif b > c:\n",
    "        return c\n",
    "    else:\n",
    "        return b\n",
    "        \n",
    "print ('세 정수의 중앙값을 구합니다')\n",
    "a = int(input('정수 a의 값을 입력하세요.: '))\n",
    "b = int(input('정수 b의 값을 입력하세요.: '))\n",
    "c = int(input('정수 c의 값을 입력하세요.: '))\n",
    "\n",
    "print(f'중앙값은{med3(a,b,c)}입니다')"
   ]
  },
  {
   "cell_type": "code",
   "execution_count": 4,
   "id": "c4d641a8",
   "metadata": {},
   "outputs": [
    {
     "name": "stdout",
     "output_type": "stream",
     "text": [
      "정수를 입력하세요.:-5\n",
      "이 수는 0입니다.\n"
     ]
    }
   ],
   "source": [
    "#입력받은 정수의 부호(양수,음수,0) 출력하기\n",
    "\n",
    "n = int(input('정수를 입력하세요.:'))\n",
    "\n",
    "if n > 0:\n",
    "    print('이 수는 양수입니다.')\n",
    "elif n > 0:\n",
    "    print('이 수는 음수입니다.')\n",
    "else:\n",
    "    print('이 수는 0입니다.')"
   ]
  },
  {
   "cell_type": "code",
   "execution_count": 6,
   "id": "a8662817",
   "metadata": {},
   "outputs": [
    {
     "name": "stdout",
     "output_type": "stream",
     "text": [
      "정수를 입력하세요.: 3\n",
      "C\n"
     ]
    }
   ],
   "source": [
    "#프로그램의 흐름이 3개로 분기하는 조건문\n",
    "\n",
    "n = int(input('정수를 입력하세요.: '))\n",
    "\n",
    "if n == 1:\n",
    "    print('A')\n",
    "elif n == 2:\n",
    "    print('B')\n",
    "else:\n",
    "    print('C')"
   ]
  },
  {
   "cell_type": "code",
   "execution_count": 12,
   "id": "131cc38a",
   "metadata": {},
   "outputs": [
    {
     "name": "stdout",
     "output_type": "stream",
     "text": [
      "정수를 입력하세요.: 4\n"
     ]
    }
   ],
   "source": [
    "#프로그램의 흐름이 4개로 분기하는 조건문\n",
    "\n",
    "n = int(input('정수를 입력하세요.: '))\n",
    "\n",
    "if n == 1:\n",
    "    print('A')\n",
    "elif n == 2:\n",
    "    print('B')\n",
    "elif n == 3:\n",
    "    print('C')\n",
    "    #n이 1,2,3이 아닐 경우 아무것도 출력하지 않음\n",
    "    #else문이 숨어 있어 이 프로그램의 흐름은 4개로 분기됨"
   ]
  },
  {
   "cell_type": "code",
   "execution_count": 13,
   "id": "63199ff3",
   "metadata": {},
   "outputs": [
    {
     "name": "stdout",
     "output_type": "stream",
     "text": [
      "정수를 입력하세요.: 4\n"
     ]
    }
   ],
   "source": [
    "n = int(input('정수를 입력하세요.: '))\n",
    "\n",
    "if n == 1:\n",
    "    print('A')\n",
    "elif n == 2:\n",
    "    print('B')\n",
    "elif n == 3:\n",
    "    print('C')\n",
    "else :\n",
    "    pass"
   ]
  },
  {
   "cell_type": "markdown",
   "id": "231af067",
   "metadata": {},
   "source": [
    "* 단항 연산자: 피연산자 1개 -a\n",
    "* 이항 연산자: 피연산자 2개 a < b\n",
    "* 삼항 연산자: 피연산자 3개 a if b else c\n",
    "    - 조건 연산자인 if~else 문은 파이썬의 유일한 삼항 연산자임"
   ]
  },
  {
   "cell_type": "code",
   "execution_count": null,
   "id": "3620c1b8",
   "metadata": {},
   "outputs": [],
   "source": [
    "a = x if x > y else y #x와 y 중 큰 값을 a에 대입\n",
    "print('c는 0입니다.' if c == 0 else 'c는 0이 아닙니다.')"
   ]
  }
 ],
 "metadata": {
  "kernelspec": {
   "display_name": "Python 3",
   "language": "python",
   "name": "python3"
  },
  "language_info": {
   "codemirror_mode": {
    "name": "ipython",
    "version": 3
   },
   "file_extension": ".py",
   "mimetype": "text/x-python",
   "name": "python",
   "nbconvert_exporter": "python",
   "pygments_lexer": "ipython3",
   "version": "3.8.8"
  }
 },
 "nbformat": 4,
 "nbformat_minor": 5
}
