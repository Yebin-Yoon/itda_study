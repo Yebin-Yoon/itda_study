{
 "cells": [
  {
   "cell_type": "markdown",
   "id": "b65099e7",
   "metadata": {},
   "source": [
    "# 01-2 반복하는 알고리즘"
   ]
  },
  {
   "cell_type": "code",
   "execution_count": 1,
   "id": "91d59bfb",
   "metadata": {},
   "outputs": [
    {
     "name": "stdout",
     "output_type": "stream",
     "text": [
      "1부터 n까지 정수의 합을 구합니다\n",
      "n값을 입력하세요.: 5\n",
      "1부터 5까지의 정수의 합은 15입니다.\n"
     ]
    }
   ],
   "source": [
    "#1부터 n까지 정수의 합 구하기 (while문)\n",
    "\n",
    "print('1부터 n까지 정수의 합을 구합니다')\n",
    "n = int(input('n값을 입력하세요.: '))\n",
    "\n",
    "sum = 0\n",
    "i = 1\n",
    "\n",
    "while i <= n: #i가 n 이하인 경우 반복\n",
    "    sum += i #sum에 i를 더함\n",
    "    i += 1 #i에 1을 더함\n",
    "    \n",
    "print(f'1부터 {n}까지의 정수의 합은 {sum}입니다.')"
   ]
  },
  {
   "cell_type": "markdown",
   "id": "92424391",
   "metadata": {},
   "source": [
    "- 반복구조(loop): 어떤 조건이 성립하는 동안 반복해서 처리하는 구조\n",
    "    - while 조건식: 명령문 (사전 판단 반복 구조), 조건식의 평가 결과가 참인 동안 프로그램의 명령문이 반복됨"
   ]
  },
  {
   "cell_type": "code",
   "execution_count": 2,
   "id": "b323b852",
   "metadata": {
    "scrolled": true
   },
   "outputs": [
    {
     "name": "stdout",
     "output_type": "stream",
     "text": [
      "1부터 n까지 정수의 합을 구합니다\n",
      "n값을 입력하세요.: 5\n",
      "1부터 5까지의 정수의 합은 15입니다.\n"
     ]
    }
   ],
   "source": [
    "#1부터 n까지 정수의 합 구하기 (for문)\n",
    "\n",
    "print('1부터 n까지 정수의 합을 구합니다')\n",
    "n = int(input('n값을 입력하세요.: '))\n",
    "\n",
    "sum = 0\n",
    "for i in range(1, n+1):\n",
    "    sum += i\n",
    "    \n",
    "print(f'1부터 {n}까지의 정수의 합은 {sum}입니다.')"
   ]
  },
  {
   "cell_type": "code",
   "execution_count": 4,
   "id": "6d076cb5",
   "metadata": {},
   "outputs": [
    {
     "name": "stdout",
     "output_type": "stream",
     "text": [
      "1부터 n까지 정수의 합을 구합니다\n",
      "n값을 입력하세요.: 5\n",
      "1부터 5까지의 정수의 합은 15입니다.\n"
     ]
    }
   ],
   "source": [
    "#1부터 n까지 정수의 합 구하기 (가우스의 덧셈)\n",
    "\n",
    "print('1부터 n까지 정수의 합을 구합니다')\n",
    "n = int(input('n값을 입력하세요.: '))\n",
    "sum = n * (n+1) // 2\n",
    "print(f'1부터 {n}까지의 정수의 합은 {sum}입니다.')"
   ]
  },
  {
   "cell_type": "markdown",
   "id": "3722c680",
   "metadata": {},
   "source": [
    "* range() 함수로 이터러블 객체 생성하기\n",
    "1. range(n): 0 이상 n 미만인 차례로 나열하는 수열\n",
    "2. range(a, b): a 이상 b 미만인 수를 차례로 나열하는 수열\n",
    "3. range(a, b, step): a 이상 b 미만인 수를 step 간격으로 나열하는 수열\n",
    "\n",
    "- 이터러블 객체: 반복할 수 있는 객체\n",
    "    - list, str, typle"
   ]
  },
  {
   "cell_type": "code",
   "execution_count": 9,
   "id": "a7c33e0b",
   "metadata": {},
   "outputs": [
    {
     "name": "stdout",
     "output_type": "stream",
     "text": [
      "a부터 b까지 정수의 합을 구합니다.\n",
      "정수 a를 입력하세요.:3\n",
      "정수 a를 입력하세요.:8\n",
      "3부터 8까지 정수의 합을 33입니다.\n"
     ]
    }
   ],
   "source": [
    "# 연속하는 정수의 합을 구하기 위해 값 정렬하기\n",
    "#1이 아닌 정수를 입력받았다면 range() 함ㅁ수에 전달할 시작값과 끝값을 오름차순으로 정렬해야함\n",
    "\n",
    "#a부터 b까지 정수의 합 구하기(for문)\n",
    "\n",
    "print('a부터 b까지 정수의 합을 구합니다.')\n",
    "a = int(input('정수 a를 입력하세요.:'))\n",
    "b = int(input('정수 a를 입력하세요.:'))\n",
    "\n",
    "if a > b: #만약 a가 b보다 크다면\n",
    "    a, b = b, a #a와 b를 오름차순으로 정렬 #a와 b의 값을 교환(단일 대입문)\n",
    "    \n",
    "sum = 0\n",
    "for i in range(a, b + 1): #b까지 더해야하므로 for문을 사용할 때는 +1 해주어야함\n",
    "    sum += i #sum에 i를 더함\n",
    "    \n",
    "print(f'{a}부터 {b}까지 정수의 합을 {sum}입니다.')"
   ]
  },
  {
   "cell_type": "markdown",
   "id": "075e96d4",
   "metadata": {},
   "source": [
    "- 두 값의 교환 a, b = b, a\n",
    "1. 우변의 b,a에 의해 두 값을 압축한 튜플(b,a)가 생성됩니다.\n",
    "2. 대입할 때 튜플(b,a)를 다시 풀어 b,a로 만든 다음 각각 a와 b에 대입합니다."
   ]
  },
  {
   "cell_type": "code",
   "execution_count": 12,
   "id": "7f910e1a",
   "metadata": {
    "scrolled": true
   },
   "outputs": [
    {
     "name": "stdout",
     "output_type": "stream",
     "text": [
      "a부터 b까지 정수의 합을 구합니다.\n",
      "정수 a를 입력하세요.: 3\n",
      "정수 b를 입력하세요.: 4\n",
      "3 + 4 = 7\n"
     ]
    }
   ],
   "source": [
    "#반복 과정에서 조건 판단하기 1\n",
    "#a부터 b까지 정수의 합 구하기 1\n",
    "\n",
    "print('a부터 b까지 정수의 합을 구합니다.')\n",
    "a = int(input('정수 a를 입력하세요.: '))\n",
    "b = int(input('정수 b를 입력하세요.: '))\n",
    "\n",
    "if a > b: #두 값의 교환\n",
    "    a, b = b, a\n",
    "    \n",
    "sum = 0\n",
    "for i in range(a, b + 1):\n",
    "    if i < b: #i가 b보다 작으면 합을 구하는 과정 출력\n",
    "        print(f'{i} + ', end = '')\n",
    "    else: #i가 b보다 크거나 같으면 최종값 출력을 위해 i = \n",
    "        print(f'{i} = ', end = '')\n",
    "    sum += i\n",
    "    \n",
    "print(sum)"
   ]
  },
  {
   "cell_type": "code",
   "execution_count": 3,
   "id": "a3f5c77b",
   "metadata": {},
   "outputs": [
    {
     "name": "stdout",
     "output_type": "stream",
     "text": [
      "a부터 b까지 정수의 합을 구합니다.\n",
      "정수 a를 입력하세요.: 3\n",
      "정수 b를 입력하세요.: 4\n",
      "3 + 4 = 7\n"
     ]
    }
   ],
   "source": [
    "#반복 과정에서 조건 판단하기 1\n",
    "#a부터 b까지 정수의 합 구하기 2\n",
    "\n",
    "print('a부터 b까지 정수의 합을 구합니다.')\n",
    "a = int(input('정수 a를 입력하세요.: '))\n",
    "b = int(input('정수 b를 입력하세요.: '))\n",
    "\n",
    "if a > b:\n",
    "    a, b = b, a\n",
    "    \n",
    "sum = 0\n",
    "for i in range(a, b): #for문에서 a부터 b-1까지 값 뒤에 +를 붙여 출력\n",
    "    print(f'{i} + ', end = '') \n",
    "    sum += i #sum에 i를 더함\n",
    "\n",
    "print(f'{b} = ', end = '') #b의 값 뒤에 =를 붙여 출력\n",
    "sum += b #sum에 b를 더함\n",
    "\n",
    "print(sum)"
   ]
  },
  {
   "cell_type": "code",
   "execution_count": 5,
   "id": "85ae5d30",
   "metadata": {},
   "outputs": [
    {
     "name": "stdout",
     "output_type": "stream",
     "text": [
      "+와 -를 번갈아 출력합니다.\n",
      "몇 개를 출력할까요?:3\n",
      "+-+\n"
     ]
    }
   ],
   "source": [
    "#반복 과정에서 조건 판단하기 2\n",
    "#줄바꿈 없이 연속으로 +,-를 출력하기 1\n",
    "\n",
    "print('+와 -를 번갈아 출력합니다.')\n",
    "n = int(input('몇 개를 출력할까요?:'))\n",
    "\n",
    "for i in range(n):\n",
    "    if i % 2: #홀수인 경우 - 출력\n",
    "        print('-', end='')\n",
    "    else: #짝수인 경우 + 출력\n",
    "        print('+', end='') \n",
    "        \n",
    "print()\n",
    "    \n",
    "#문제점\n",
    "#1. for문을 반복할 때마다 if문 수행\n",
    "#2. 카운터용 변수 i를 0에서 n-1까지 1씩 증가시키므로 i를 1부터 n까지 1씩 증가시키고 싶다면 range()함수로 전달하는 값과 for문의 print()함수 호출 순서를 바꿔야 함"
   ]
  },
  {
   "cell_type": "code",
   "execution_count": 10,
   "id": "1f86b657",
   "metadata": {},
   "outputs": [
    {
     "name": "stdout",
     "output_type": "stream",
     "text": [
      "+와 -를 번갈아 출력합니다.\n",
      "몇 개를 출력할까요?:3\n",
      "-+-\n"
     ]
    }
   ],
   "source": [
    "#줄바꿈 없이 연속으로 +,-를 출력하기 2\n",
    "\n",
    "print('+와 -를 번갈아 출력합니다.')\n",
    "n = int(input('몇 개를 출력할까요?:'))\n",
    "\n",
    "for i in range(1, n + 1):\n",
    "        if i % 2: #홀수인 경우 - 출력\n",
    "            print('-', end='')\n",
    "        else: #짝수인 경우 + 출력\n",
    "            print('+', end='') \n",
    "        \n",
    "print()"
   ]
  },
  {
   "cell_type": "code",
   "execution_count": 7,
   "id": "7734b04b",
   "metadata": {},
   "outputs": [
    {
     "name": "stdout",
     "output_type": "stream",
     "text": [
      "*를 출력합니다.\n",
      "몇 개를 출력할까요?3\n",
      "몇 개마다 줄바꿈 할까요?3\n",
      "***\n"
     ]
    }
   ],
   "source": [
    "#반복 과정에서 조건 판단하기 3\n",
    "#*를 n개 출력하되 w개마다 줄바꿈하기 1\n",
    "\n",
    "print('*를 출력합니다.')\n",
    "n = int(input('몇 개를 출력할까요?'))\n",
    "w = int(input('몇 개마다 줄바꿈 할까요?'))\n",
    "\n",
    "for i in range(n): #n번 반복\n",
    "    print('*', end='')\n",
    "    if i % w == w - 1: #만약 i를 w로 나눈 값이 w-1의 값과 같다면\n",
    "        print() #줄바꿈\n",
    "\n",
    "        \n",
    "if n % w: #만약 n이 w의 배수일 경우\n",
    "    print() #줄바꿈\n",
    "    \n",
    "#for문을 반복할때마다 if문을 수행하므로 효율적이지 않음"
   ]
  },
  {
   "cell_type": "code",
   "execution_count": 1,
   "id": "820c03b8",
   "metadata": {},
   "outputs": [
    {
     "name": "stdout",
     "output_type": "stream",
     "text": [
      "*를 출력합니다.\n",
      "몇 개를 출력할까요?3\n",
      "몇 개마다 줄바꿈 할까요?3\n",
      "***\n"
     ]
    }
   ],
   "source": [
    "#*를 n개 출력하되 w개마다 줄바꿈하기 2\n",
    "\n",
    "print('*를 출력합니다.')\n",
    "n = int(input('몇 개를 출력할까요?'))\n",
    "w = int(input('몇 개마다 줄바꿈 할까요?'))\n",
    "\n",
    "for _ in range(n//w): #n을 w번 나눈만틈 출력, n이 w의 배수일 경우 모든 출력이 완료됨\n",
    "    print('*' * w)\n",
    "    \n",
    "rest = n % w #n이 w의 배수가 아닐 경우 \n",
    "if rest: #n을 w로 나눈 나머지를 rest에 저장하고 *을 rest개 출력한 다음 출바꿈\n",
    "    print('*' * w) #rest가 0일 경우, *와 줄바꿈을 하지 않음"
   ]
  },
  {
   "cell_type": "code",
   "execution_count": 9,
   "id": "8df26c14",
   "metadata": {},
   "outputs": [
    {
     "name": "stdout",
     "output_type": "stream",
     "text": [
      "1부터 n까지 정수의 합을 구합니다.\n",
      "n값을 입력하세요.: -6\n",
      "n값을 입력하세요.: 0\n",
      "n값을 입력하세요.: 10\n",
      "1부터 10까지 정수의 합은 55입니다.\n"
     ]
    }
   ],
   "source": [
    "#1부터 n까지의 정수의 합 구하기(n값은 양수만 입력받음)\n",
    "\n",
    "print('1부터 n까지 정수의 합을 구합니다.')\n",
    "\n",
    "while True:\n",
    "    n = int(input('n값을 입력하세요.: '))\n",
    "    if n > 0:\n",
    "        break #n이 0보다 커질 때까지 반복, 0 이하 값일 경우 다시 입력받음\n",
    "\n",
    "sum = 0\n",
    "i = 1\n",
    "\n",
    "for i in range(1, n + 1):\n",
    "    sum += i #sum에 i를 더함\n",
    "    i += 1 #i에 1을 더함\n",
    "    \n",
    "print(f'1부터 {n}까지 정수의 합은 {sum}입니다.')"
   ]
  },
  {
   "cell_type": "code",
   "execution_count": null,
   "id": "7fa70c67",
   "metadata": {},
   "outputs": [],
   "source": [
    "#직사각형 넓이로 변의 길이 구하기\n",
    "#가로, 세로 길이가 정수이고 넓이가 area인 직사각형에서 변의 길이 나열하기\n",
    "\n",
    "area = int(input('직사각형의 넓이를 입력하세요.: '))\n",
    "\n",
    "for i in range(1, area + 1): #1부터 사각형의 넓이 계산\n",
    "    if i * i > area: break\n",
    "    #i가 가장 긴 변의 길이가 되기 때문에 프로그램 종료\n",
    "    if area % i: continue\n",
    "    #area가 i로 나누어 떨어지지 않으면 i는 변의 길이(약수)가 될 수 없으므로 다음 for문의 반복으로 진행\n",
    "    print(f'{i} X {area // i}')\n",
    "    #i와 area//i의 값을 짧은 변, 긴 변의 순서로 출력"
   ]
  },
  {
   "cell_type": "code",
   "execution_count": 10,
   "id": "f43e5413",
   "metadata": {},
   "outputs": [
    {
     "name": "stdout",
     "output_type": "stream",
     "text": [
      "난수의 개수를 입력하세요.: 5\n",
      "1522332075\n",
      "난수 생성을 종료합니다.\n"
     ]
    }
   ],
   "source": [
    "#10~99 사이의 난수 n개 생성하기(13이 나오면 중단)\n",
    "\n",
    "import random\n",
    "\n",
    "n = int(input('난수의 개수를 입력하세요.: '))\n",
    "\n",
    "for _ in range(n):\n",
    "    r = random.randint(10,99)\n",
    "    print(r, end = '')\n",
    "    if r == 13:\n",
    "        print('\\n프로그램을 중단합니다.')\n",
    "        break\n",
    "else:\n",
    "    print('\\n난수 생성을 종료합니다.')"
   ]
  },
  {
   "cell_type": "markdown",
   "id": "6e5a209a",
   "metadata": {},
   "source": [
    "**random.randint(a,b) 함수**: a 이상 b 이하인 난수를 생성하여 반환"
   ]
  },
  {
   "cell_type": "code",
   "execution_count": 12,
   "id": "488b7f29",
   "metadata": {},
   "outputs": [
    {
     "name": "stdout",
     "output_type": "stream",
     "text": [
      "12345679101112\n"
     ]
    }
   ],
   "source": [
    "#1~12까지 8을 건너뛰고 출력하기 1\n",
    "\n",
    "for i in range(1,13):\n",
    "    if i == 8:\n",
    "        continue\n",
    "    print(i, end='')\n",
    "    \n",
    "print()\n",
    "\n",
    "#건너뛰어야하는 값이 불확실하다면 if, continue문을 사용해야함"
   ]
  },
  {
   "cell_type": "code",
   "execution_count": 13,
   "id": "34241d57",
   "metadata": {},
   "outputs": [
    {
     "name": "stdout",
     "output_type": "stream",
     "text": [
      "12345679101112\n"
     ]
    }
   ],
   "source": [
    "#1~12까지 8을 건너뛰고 출력하기 1\n",
    "\n",
    "for i in list(range(1,8)) + list(range(9,13)):\n",
    "    print(i, end = '')\n",
    "print()"
   ]
  },
  {
   "cell_type": "code",
   "execution_count": 14,
   "id": "a162fb31",
   "metadata": {},
   "outputs": [
    {
     "name": "stdout",
     "output_type": "stream",
     "text": [
      "2자리 양수를 입력하세요.\n",
      "값을 입력하세요.:9\n",
      "값을 입력하세요.:146\n",
      "값을 입력하세요.:57\n",
      "입력받은 양수는 57입니다.\n"
     ]
    }
   ],
   "source": [
    "#비교연산자를 연속으로 사용하는 방법과 드모르간의 법칙\n",
    "#2자리 양수(10~99) 입력받기\n",
    "\n",
    "print('2자리 양수를 입력하세요.')\n",
    "\n",
    "while True:\n",
    "    no = int(input('값을 입력하세요.:'))\n",
    "    if no >= 10 and no <= 99: #비교연산자를 and 결합으로 연속사용\n",
    "    #if not(no < 10 or no > 99) 드모르간의 법칙 사용, 논리부정연산자인 not 연산자 사용\n",
    "        break \n",
    "        \n",
    "print(f'입력받은 양수는 {no}입니다.')"
   ]
  },
  {
   "cell_type": "code",
   "execution_count": 16,
   "id": "c190e9e8",
   "metadata": {},
   "outputs": [
    {
     "name": "stdout",
     "output_type": "stream",
     "text": [
      "---------------------------\n",
      "  1  2  3  4  5  6  7  8  9\n",
      "  2  4  6  8 10 12 14 16 18\n",
      "  3  6  9 12 15 18 21 24 27\n",
      "  4  8 12 16 20 24 28 32 36\n",
      "  5 10 15 20 25 30 35 40 45\n",
      "  6 12 18 24 30 36 42 48 54\n",
      "  7 14 21 28 35 42 49 56 63\n",
      "  8 16 24 32 40 48 56 64 72\n",
      "  9 18 27 36 45 54 63 72 81\n",
      "---------------------------\n"
     ]
    }
   ],
   "source": [
    "#이중루프\n",
    "#구구단 곱셈표 출력하기\n",
    "\n",
    "print('-' * 27)\n",
    "for i in range(1, 10):\n",
    "    for j in range (1,10):\n",
    "        print(f'{i * j:3}', end = '') #i * j를 3자리로 출력\n",
    "    print() #행 변경\n",
    "print('-' * 27)"
   ]
  },
  {
   "cell_type": "code",
   "execution_count": 17,
   "id": "0bca1e14",
   "metadata": {},
   "outputs": [
    {
     "name": "stdout",
     "output_type": "stream",
     "text": [
      "왼쪽 아래가 직각인 이등변 삼각형을 출력합니다.\n",
      "짧은 변의 길이를 입력하세요.:5\n",
      "*\n",
      "**\n",
      "***\n",
      "****\n",
      "*****\n"
     ]
    }
   ],
   "source": [
    "#이중루프\n",
    "#왼쪽 아래가 직각인 이등변 삼각형으로 * 출력하기\n",
    "\n",
    "print('왼쪽 아래가 직각인 이등변 삼각형을 출력합니다.')\n",
    "n = int(input('짧은 변의 길이를 입력하세요.:'))\n",
    "\n",
    "for i in range(n):\n",
    "    for j in range(i + 1):\n",
    "        print('*', end='')\n",
    "    print() #행 변경"
   ]
  },
  {
   "cell_type": "code",
   "execution_count": null,
   "id": "24da901a",
   "metadata": {},
   "outputs": [],
   "source": [
    "#이중루프\n",
    "#오른쪽 아래가 직각인 이등변 삼각형으로 * 출력하기\n",
    "\n",
    "print('오른쪽 아래가 직각인 이등변 삼각형을 출력합니다.')\n",
    "n = int(input('짧은 변의 길이를 입력하세요.:'))\n",
    "\n",
    "for i in range(n): \n",
    "    for _ in range(n - i - 1):\n",
    "        print('',end='') #*을 출력하기 전 공백을 출력\n",
    "    for _ in range(i+1):\n",
    "        print('*', end='') \n",
    "    print()"
   ]
  }
 ],
 "metadata": {
  "kernelspec": {
   "display_name": "Python 3",
   "language": "python",
   "name": "python3"
  },
  "language_info": {
   "codemirror_mode": {
    "name": "ipython",
    "version": 3
   },
   "file_extension": ".py",
   "mimetype": "text/x-python",
   "name": "python",
   "nbconvert_exporter": "python",
   "pygments_lexer": "ipython3",
   "version": "3.8.8"
  }
 },
 "nbformat": 4,
 "nbformat_minor": 5
}
